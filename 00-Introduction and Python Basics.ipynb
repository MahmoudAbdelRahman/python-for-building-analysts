{
 "metadata": {
  "name": "",
  "signature": "sha256:5ef39ae3f9204afc4d1e2c7231e0a2f901862d8f969809d416ba9610f3c39b66"
 },
 "nbformat": 3,
 "nbformat_minor": 0,
 "worksheets": [
  {
   "cells": [
    {
     "cell_type": "markdown",
     "metadata": {},
     "source": [
      "#Introduction and Python Basics\n",
      "    \n",
      "Created by Clayton Miller (miller.clayton@arch.ethz.ch) and Marcus Jones for the IBPSA/ASHRAE BuildingSimulation Python Workshop - 08.Sept 2014"
     ]
    },
    {
     "cell_type": "markdown",
     "metadata": {},
     "source": [
      "##Important Resources:\n",
      "- http://www.pythonpoweredbuilding.com/\n",
      "- https://www.python.org/\n",
      "- http://www.learnpython.org/"
     ]
    },
    {
     "cell_type": "markdown",
     "metadata": {},
     "source": [
      "Objectives: \n",
      "<ul>\n",
      "<li>Understand Python in the context of programming languages</li>\n",
      "<li>Discuss why we believe Python is an essential language to learn as an Energy Modeller</li>\n",
      "<li>Get some pointers and further resources</li>\n",
      "</ul>"
     ]
    },
    {
     "cell_type": "code",
     "collapsed": false,
     "input": [
      "from IPython.core.display import Image\n",
      "Image(filename='ExampleData/imgres-2.jpg')"
     ],
     "language": "python",
     "metadata": {},
     "outputs": []
    },
    {
     "cell_type": "markdown",
     "metadata": {},
     "source": [
      "\n",
      "<h3>Python features and implementation</h3>\n",
      "\n",
      "<ul>\n",
      "<li>Object oriented \n",
      "    <ul><li><i>Everything is an object</i></li></ul>\n",
      "    </li>\n",
      "<li>Dynamic typing \n",
      "    <ul><li><i>Variables created on the fly</i></li></ul>\n",
      "    </li>\n",
      "<li>Interpreted\n",
      "    <ul><li><i>Code is not compiled, but processed by the Python interpreter</i></li></ul>\n",
      "    </li>\n",
      "</ul>"
     ]
    },
    {
     "cell_type": "markdown",
     "metadata": {},
     "source": [
      "\n",
      "<h3>Python for Energy modelling</h3>\n",
      "<ul>\n",
      "<li>Wide acceptance among engineers and scientists\n",
      "    <ul><li><i>SciPy and EuroSciPy conferences</i></li></ul>\n",
      "    </li>\n",
      "    \n",
      "<li>But also wide acceptance amongst computer scientists and enterprise organizations\n",
      "         <ul><li><i>MIT; Switched the engineer's programming course to Python</i></li></ul>\n",
      "         <ul><li><i>Google; \"Python where we can, C++ where we must\" -Sergey, Larry, Craig</i></li></ul>\n",
      "         <ul><li><i>Youtube</i></li></ul>\n",
      "    </li>\n",
      "    \n",
      "<li>Free and open source\n",
      "    <ul><li><i>Open source license</i></li></ul>\n",
      "    <ul><li><i>IP is held by the non profit Python Foundation</i></li></ul>\n",
      "    </li>\n",
      "    \n",
      "<li>Many modules and projects for engineers\n",
      "\n",
      "    <ul><li><i>The SciPy stack</i></i>\n",
      "        <ul><li><i><b>Numpy</b>; Fast matrix computations</i></li></ul>\n",
      "        <ul><li><i><b>SciPy</b>; Scientific library for Sstats, Fourier, Optimization, etc.</i></li></ul>\n",
      "        <ul><li><i><b>MatPlotLib</b>; Matlab - like plotting library</i></li></ul>\n",
      "        <ul><li><i><b>IPython</b>; Interactive coding</i></li></ul>\n",
      "        <ul><li><i><b>SymPy</b>; Symbolic algebra</i></li></ul>\n",
      "        <ul><li><i><b>Pandas</b>; Data analysis</i></li></ul>\n",
      "        </li>\n",
      "    </ul>\n",
      "    <ul><li><i>Anything else you can dream of</i></li>\n",
      "        <ul><li><i>Fast XML parsing - I use <a href=\"http://lxml.de/\">lxml</a>  </i></li></ul>\n",
      "        <ul><li><i>SQL access, creation, manipulation - - Native support SQLite or <a href=\"http://www.sqlalchemy.org/\">SQLalchemy</a></i></li></ul>\n",
      "        <ul><li><i>Internet scraping and IP communications</i></li></ul>\n",
      "        <ul><li><i>Etc.</i></li></ul>\n",
      "                \n",
      " "
     ]
    },
    {
     "cell_type": "markdown",
     "metadata": {},
     "source": [
      "Objectives: \n",
      "<ul>\n",
      "<li>Understand the data types in python</li>\n",
      "<li>Strings and formatting</li>\n",
      "<li>Variables and names</li>\n",
      "</ul> "
     ]
    },
    {
     "cell_type": "heading",
     "level": 3,
     "metadata": {},
     "source": [
      "Data types"
     ]
    },
    {
     "cell_type": "code",
     "collapsed": false,
     "input": [
      "from IPython.core.display import Image \n",
      "Image(filename='ExampleData/PythonDataTypes.png')\n",
      "#http://nbviewer.ipython.org/urls/github.com/iguananaut/notebooks/raw/master/variables.ipynb"
     ],
     "language": "python",
     "metadata": {},
     "outputs": []
    },
    {
     "cell_type": "heading",
     "level": 4,
     "metadata": {},
     "source": [
      "<i>The scalars; strings and numbers"
     ]
    },
    {
     "cell_type": "markdown",
     "metadata": {},
     "source": [
      "Printing strings"
     ]
    },
    {
     "cell_type": "code",
     "collapsed": true,
     "input": [
      "print(\"Welcome to Python\")\n",
      "print(\"Welcome to 'Python'\")\n",
      "print('Welcome to \"Python\"') # Two ways to quote, choose your favorite!\n",
      "print(\"Hello\")"
     ],
     "language": "python",
     "metadata": {},
     "outputs": []
    },
    {
     "cell_type": "code",
     "collapsed": false,
     "input": [
      "print(r\"\\t Hello \\\\ c:\\temp\")\n",
      "print(\"c:\\\\temp\")"
     ],
     "language": "python",
     "metadata": {},
     "outputs": []
    },
    {
     "cell_type": "code",
     "collapsed": false,
     "input": [
      "type(u\"string\")"
     ],
     "language": "python",
     "metadata": {},
     "outputs": []
    },
    {
     "cell_type": "markdown",
     "metadata": {},
     "source": [
      "<p>Strings also have escape codes for tab (\\t), newline (\\n), etc.\n",
      "<p>Also note the comments"
     ]
    },
    {
     "cell_type": "code",
     "collapsed": false,
     "input": [
      "print(type(\"Welcome to Python\"))\n",
      "print(type(1))\n",
      "type(type)"
     ],
     "language": "python",
     "metadata": {},
     "outputs": []
    },
    {
     "cell_type": "heading",
     "level": 4,
     "metadata": {},
     "source": [
      "<i>Simple math"
     ]
    },
    {
     "cell_type": "code",
     "collapsed": false,
     "input": [
      "print(1+1)\n",
      "print(1/2)\n",
      "print(1.0/2)\n"
     ],
     "language": "python",
     "metadata": {},
     "outputs": []
    },
    {
     "cell_type": "code",
     "collapsed": false,
     "input": [
      "print type(1.0/2)"
     ],
     "language": "python",
     "metadata": {},
     "outputs": []
    },
    {
     "cell_type": "markdown",
     "metadata": {},
     "source": [
      "This behaviour is unintuitive, especially for engineers. It has been corrected in Python 3;"
     ]
    },
    {
     "cell_type": "code",
     "collapsed": false,
     "input": [
      "print(1/2)\n",
      "print(1.0/2)\n"
     ],
     "language": "python",
     "metadata": {},
     "outputs": []
    },
    {
     "cell_type": "code",
     "collapsed": false,
     "input": [
      "import math"
     ],
     "language": "python",
     "metadata": {},
     "outputs": []
    },
    {
     "cell_type": "code",
     "collapsed": false,
     "input": [
      "sqrt(2)"
     ],
     "language": "python",
     "metadata": {},
     "outputs": []
    },
    {
     "cell_type": "heading",
     "level": 4,
     "metadata": {},
     "source": [
      "<i>String creation"
     ]
    },
    {
     "cell_type": "code",
     "collapsed": false,
     "input": [
      "duck_verb = \"quacked\"\n",
      "count = 33 * 2\n",
      "print(\"The duck \" + duck_verb + \" \" + str(count) + \" times\")"
     ],
     "language": "python",
     "metadata": {},
     "outputs": []
    },
    {
     "cell_type": "code",
     "collapsed": false,
     "input": [
      "count = 5"
     ],
     "language": "python",
     "metadata": {},
     "outputs": []
    },
    {
     "cell_type": "code",
     "collapsed": false,
     "input": [
      "duck_verb[5]"
     ],
     "language": "python",
     "metadata": {},
     "outputs": []
    },
    {
     "cell_type": "code",
     "collapsed": false,
     "input": [
      "type([])"
     ],
     "language": "python",
     "metadata": {},
     "outputs": []
    },
    {
     "cell_type": "code",
     "collapsed": false,
     "input": [
      "len([])"
     ],
     "language": "python",
     "metadata": {},
     "outputs": []
    },
    {
     "cell_type": "code",
     "collapsed": false,
     "input": [
      "tuple([3,4])"
     ],
     "language": "python",
     "metadata": {},
     "outputs": []
    },
    {
     "cell_type": "code",
     "collapsed": false,
     "input": [
      "tup1 = (1,2,3)"
     ],
     "language": "python",
     "metadata": {},
     "outputs": []
    },
    {
     "cell_type": "code",
     "collapsed": false,
     "input": [
      "tup1[2] = 2"
     ],
     "language": "python",
     "metadata": {},
     "outputs": []
    },
    {
     "cell_type": "code",
     "collapsed": false,
     "input": [
      "list1 = list(tup1)"
     ],
     "language": "python",
     "metadata": {},
     "outputs": []
    },
    {
     "cell_type": "code",
     "collapsed": false,
     "input": [
      "list1[2] = 10"
     ],
     "language": "python",
     "metadata": {},
     "outputs": []
    },
    {
     "cell_type": "code",
     "collapsed": false,
     "input": [
      "list1"
     ],
     "language": "python",
     "metadata": {},
     "outputs": []
    },
    {
     "cell_type": "code",
     "collapsed": false,
     "input": [
      "list1[0]"
     ],
     "language": "python",
     "metadata": {},
     "outputs": []
    },
    {
     "cell_type": "code",
     "collapsed": false,
     "input": [
      "list1[0:2]"
     ],
     "language": "python",
     "metadata": {},
     "outputs": []
    },
    {
     "cell_type": "markdown",
     "metadata": {},
     "source": [
      "<p>Note the <b>concatenate</b> operator <b>+</b>\n",
      "<p>Note also the inline variable creation of <b>duck_verb</b> and <b>count</b>, this is dynamic typing"
     ]
    },
    {
     "cell_type": "code",
     "collapsed": false,
     "input": [
      "print(\"The duck {0} {1} times\".format(duck_verb,count))"
     ],
     "language": "python",
     "metadata": {},
     "outputs": []
    },
    {
     "cell_type": "code",
     "collapsed": false,
     "input": [
      "print(\"The duck {1} {0} times\".format(duck_verb,count))"
     ],
     "language": "python",
     "metadata": {},
     "outputs": []
    },
    {
     "cell_type": "code",
     "collapsed": false,
     "input": [
      "print(\"The duck {} - {} times\".format(duck_verb,count))"
     ],
     "language": "python",
     "metadata": {},
     "outputs": []
    },
    {
     "cell_type": "code",
     "collapsed": false,
     "input": [
      "print(\"The duck {0:<2s} {1:<20.20f} times\".format(duck_verb,count))"
     ],
     "language": "python",
     "metadata": {},
     "outputs": []
    },
    {
     "cell_type": "markdown",
     "metadata": {},
     "source": [
      "Alternatively, the variables can be inserted into a string (preferred approach!)"
     ]
    },
    {
     "cell_type": "markdown",
     "metadata": {},
     "source": [
      "This is the \"formatting mini language\", see <a href =http://docs.python.org/library/string.html#format-specification-mini-language>online documentation</a>"
     ]
    },
    {
     "cell_type": "heading",
     "level": 3,
     "metadata": {},
     "source": [
      "<i>(Aside: Text encoding)</i>"
     ]
    },
    {
     "cell_type": "code",
     "collapsed": false,
     "input": [
      "print(\"String\", type(\"String\"),sep=\" \")\n",
      "print(u\"Unicode string\",type(u\"Unicode string\"),sep=\" \")"
     ],
     "language": "python",
     "metadata": {},
     "outputs": []
    },
    {
     "cell_type": "markdown",
     "metadata": {},
     "source": [
      "<h3><i>(Aside: The new Python 3 Print function)</i></h3>\n",
      "<p>The new print in Python 3 has more features"
     ]
    },
    {
     "cell_type": "code",
     "collapsed": false,
     "input": [
      "from __future__ import print_function\n",
      "print(\"Apples\",\"Bananas\",\"Oranges\")\n",
      "print(\"Apples\",\"Bananas\",\"Oranges\", sep=\" - \")\n",
      "print(\"Apples\",\"Bananas\",\"Oranges\", sep=\" - \", end=\".\\n\")"
     ],
     "language": "python",
     "metadata": {},
     "outputs": []
    },
    {
     "cell_type": "heading",
     "level": 3,
     "metadata": {},
     "source": [
      "<h3>Containers</h3>\n",
      "<h4>Lists</h4>"
     ]
    },
    {
     "cell_type": "code",
     "collapsed": false,
     "input": [
      "list_of_numbers = [1,2,3]\n",
      "print(list_of_numbers)"
     ],
     "language": "python",
     "metadata": {},
     "outputs": []
    },
    {
     "cell_type": "code",
     "collapsed": false,
     "input": [
      "list_of_more_numbers = list_of_numbers + [100,200,300]\n",
      "print(list_of_more_numbers)"
     ],
     "language": "python",
     "metadata": {},
     "outputs": []
    },
    {
     "cell_type": "code",
     "collapsed": false,
     "input": [
      "tuple_of_num = tuple(list_of_more_numbers)\n",
      "print(tuple_of_num)"
     ],
     "language": "python",
     "metadata": {},
     "outputs": []
    },
    {
     "cell_type": "code",
     "collapsed": false,
     "input": [
      "list_of_strings = [\"Apples\",\"Bananas\",\"Oranges\"]\n",
      "print(list_of_strings)"
     ],
     "language": "python",
     "metadata": {},
     "outputs": []
    },
    {
     "cell_type": "markdown",
     "metadata": {},
     "source": [
      "<h4><i>(Aside: see 'list unpacking' for more)</i></h4>"
     ]
    },
    {
     "cell_type": "code",
     "collapsed": false,
     "input": [
      "print(*list_of_strings, sep=\" | \") "
     ],
     "language": "python",
     "metadata": {},
     "outputs": []
    },
    {
     "cell_type": "code",
     "collapsed": false,
     "input": [
      "list_of_stuff = list_of_numbers + list_of_strings\n",
      "print(list_of_stuff)"
     ],
     "language": "python",
     "metadata": {},
     "outputs": []
    },
    {
     "cell_type": "code",
     "collapsed": false,
     "input": [
      "list_of_stuff[:3] + [\"Insert\"] + list_of_stuff[3:]"
     ],
     "language": "python",
     "metadata": {},
     "outputs": []
    },
    {
     "cell_type": "code",
     "collapsed": false,
     "input": [
      "list_of_more_stuff = list_of_numbers + list_of_stuff + [print]\n",
      "print(list_of_more_stuff)"
     ],
     "language": "python",
     "metadata": {},
     "outputs": []
    },
    {
     "cell_type": "heading",
     "level": 4,
     "metadata": {},
     "source": [
      "Looping over lists"
     ]
    },
    {
     "cell_type": "code",
     "collapsed": false,
     "input": [
      "for thing in list_of_stuff:\n",
      "    print(thing)"
     ],
     "language": "python",
     "metadata": {},
     "outputs": []
    },
    {
     "cell_type": "markdown",
     "metadata": {},
     "source": [
      "Indexing lists"
     ]
    },
    {
     "cell_type": "code",
     "collapsed": false,
     "input": [
      "list_of_stuff[2]"
     ],
     "language": "python",
     "metadata": {},
     "outputs": []
    },
    {
     "cell_type": "code",
     "collapsed": false,
     "input": [
      "list_of_stuff[2:]"
     ],
     "language": "python",
     "metadata": {},
     "outputs": []
    },
    {
     "cell_type": "code",
     "collapsed": false,
     "input": [
      "var1 = [[2,44],[5,88]]"
     ],
     "language": "python",
     "metadata": {},
     "outputs": []
    },
    {
     "cell_type": "code",
     "collapsed": false,
     "input": [
      "var1[0][1] = 60"
     ],
     "language": "python",
     "metadata": {},
     "outputs": []
    },
    {
     "cell_type": "code",
     "collapsed": false,
     "input": [
      "var1"
     ],
     "language": "python",
     "metadata": {},
     "outputs": []
    },
    {
     "cell_type": "code",
     "collapsed": false,
     "input": [
      "list2 = [[2,5,\"string1\",\"gg\"],[2, 2, 2]]"
     ],
     "language": "python",
     "metadata": {},
     "outputs": []
    },
    {
     "cell_type": "code",
     "collapsed": false,
     "input": [
      "print(list2)"
     ],
     "language": "python",
     "metadata": {},
     "outputs": []
    },
    {
     "cell_type": "code",
     "collapsed": false,
     "input": [
      "count = 0\n",
      "for item in list2:\n",
      "    for thing in item:\n",
      "        print(\"Here is the first level iteration COUNT='{}' {} \".format(count,thing))\n",
      "    count = count + 1\n",
      "    #    print(thing)\n",
      "\n"
     ],
     "language": "python",
     "metadata": {},
     "outputs": []
    },
    {
     "cell_type": "code",
     "collapsed": false,
     "input": [
      "num_ls = range(10)"
     ],
     "language": "python",
     "metadata": {},
     "outputs": []
    },
    {
     "cell_type": "code",
     "collapsed": false,
     "input": [
      "num_ls"
     ],
     "language": "python",
     "metadata": {},
     "outputs": []
    },
    {
     "cell_type": "markdown",
     "metadata": {},
     "source": [
      "Take num_ls - convert all values in num_ls into the square of all numbers: **"
     ]
    },
    {
     "cell_type": "code",
     "collapsed": false,
     "input": [
      "num_ls"
     ],
     "language": "python",
     "metadata": {},
     "outputs": []
    },
    {
     "cell_type": "code",
     "collapsed": false,
     "input": [
      "new_ls = list()\n",
      "for item in num_ls:\n",
      "    print(item)\n",
      "    new_ls = new_ls + [item**2]\n",
      "num_ls = new_ls"
     ],
     "language": "python",
     "metadata": {},
     "outputs": []
    },
    {
     "cell_type": "code",
     "collapsed": false,
     "input": [
      "new_ls = list()\n",
      "for item in num_ls:\n",
      "    new_ls.append(item**2)\n",
      "    num_ls = new_ls"
     ],
     "language": "python",
     "metadata": {},
     "outputs": []
    },
    {
     "cell_type": "code",
     "collapsed": false,
     "input": [
      "print(num_ls)"
     ],
     "language": "python",
     "metadata": {},
     "outputs": []
    },
    {
     "cell_type": "code",
     "collapsed": false,
     "input": [
      "new_ls = list()\n"
     ],
     "language": "python",
     "metadata": {},
     "outputs": []
    },
    {
     "cell_type": "code",
     "collapsed": false,
     "input": [
      "print(type(new_ls))"
     ],
     "language": "python",
     "metadata": {},
     "outputs": []
    },
    {
     "cell_type": "code",
     "collapsed": false,
     "input": [
      "for item in num_ls:\n",
      "    new_ls.append(item**2)\n",
      "num_ls = new_ls"
     ],
     "language": "python",
     "metadata": {},
     "outputs": []
    },
    {
     "cell_type": "code",
     "collapsed": false,
     "input": [
      "new_ls"
     ],
     "language": "python",
     "metadata": {},
     "outputs": []
    },
    {
     "cell_type": "code",
     "collapsed": false,
     "input": [
      "for item in list2:\n",
      "    print(item)\n",
      "for item in list2[0]:\n",
      "    print(item)"
     ],
     "language": "python",
     "metadata": {},
     "outputs": []
    },
    {
     "cell_type": "code",
     "collapsed": false,
     "input": [
      "print(num_ls)"
     ],
     "language": "python",
     "metadata": {},
     "outputs": []
    },
    {
     "cell_type": "markdown",
     "metadata": {},
     "source": [
      "Adding things to lists"
     ]
    },
    {
     "cell_type": "code",
     "collapsed": false,
     "input": [
      "print(range(10))"
     ],
     "language": "python",
     "metadata": {},
     "outputs": []
    },
    {
     "cell_type": "code",
     "collapsed": false,
     "input": [
      "for number in range(10):\n",
      "    list_of_stuff.append(number^2)"
     ],
     "language": "python",
     "metadata": {},
     "outputs": []
    },
    {
     "cell_type": "code",
     "collapsed": false,
     "input": [
      "print(list_of_stuff)"
     ],
     "language": "python",
     "metadata": {},
     "outputs": []
    },
    {
     "cell_type": "code",
     "collapsed": false,
     "input": [],
     "language": "python",
     "metadata": {},
     "outputs": []
    },
    {
     "cell_type": "heading",
     "level": 4,
     "metadata": {},
     "source": [
      "EXCERCISE: Make a 2D"
     ]
    },
    {
     "cell_type": "heading",
     "level": 4,
     "metadata": {},
     "source": [
      "Tuples"
     ]
    },
    {
     "cell_type": "code",
     "collapsed": false,
     "input": [
      "tuple_of_stuff = (\"Apples\",\"Bananas\",\"Oranges\")"
     ],
     "language": "python",
     "metadata": {},
     "outputs": []
    },
    {
     "cell_type": "code",
     "collapsed": false,
     "input": [
      "for number in range(10):\n",
      "    tuple_of_stuff.append(number^2)"
     ],
     "language": "python",
     "metadata": {},
     "outputs": []
    },
    {
     "cell_type": "markdown",
     "metadata": {},
     "source": [
      "A tuple is very much like a list, except you can't change it!"
     ]
    },
    {
     "cell_type": "code",
     "collapsed": false,
     "input": [
      "converted_list = [tuple_of_stuff]"
     ],
     "language": "python",
     "metadata": {},
     "outputs": []
    },
    {
     "cell_type": "code",
     "collapsed": false,
     "input": [
      "print(converted_list)"
     ],
     "language": "python",
     "metadata": {},
     "outputs": []
    },
    {
     "cell_type": "code",
     "collapsed": false,
     "input": [
      "converted_list = list(tuple_of_stuff)\n",
      "print(converted_list)"
     ],
     "language": "python",
     "metadata": {},
     "outputs": []
    },
    {
     "cell_type": "markdown",
     "metadata": {},
     "source": [
      "While-loops"
     ]
    },
    {
     "cell_type": "heading",
     "level": 3,
     "metadata": {},
     "source": [
      "Flow control statements"
     ]
    },
    {
     "cell_type": "code",
     "collapsed": false,
     "input": [
      "print(True)\n",
      "print(type(True))"
     ],
     "language": "python",
     "metadata": {},
     "outputs": []
    },
    {
     "cell_type": "code",
     "collapsed": false,
     "input": [
      "print(true)"
     ],
     "language": "python",
     "metadata": {},
     "outputs": []
    },
    {
     "cell_type": "code",
     "collapsed": false,
     "input": [
      "print(5>2)\n",
      "\n",
      "print(\"Table\" == \"Table22\")"
     ],
     "language": "python",
     "metadata": {},
     "outputs": []
    },
    {
     "cell_type": "code",
     "collapsed": false,
     "input": [
      "print(\"t\" is \"t\")"
     ],
     "language": "python",
     "metadata": {},
     "outputs": []
    },
    {
     "cell_type": "code",
     "collapsed": false,
     "input": [
      "variable = range(10)\n",
      "count\n",
      "flag222 = True\n",
      "while flag222:\n",
      "    print(\"2\")\n",
      "    \n",
      "    flag222 = False"
     ],
     "language": "python",
     "metadata": {},
     "outputs": []
    },
    {
     "cell_type": "code",
     "collapsed": false,
     "input": [],
     "language": "python",
     "metadata": {},
     "outputs": []
    },
    {
     "cell_type": "code",
     "collapsed": false,
     "input": [
      "for i in range(6):\n",
      "    if i > 2:\n",
      "        print(i)\n",
      "    else:\n",
      "        print(-i)"
     ],
     "language": "python",
     "metadata": {},
     "outputs": []
    },
    {
     "cell_type": "heading",
     "level": 3,
     "metadata": {},
     "source": [
      "Functions"
     ]
    },
    {
     "cell_type": "code",
     "collapsed": false,
     "input": [
      "def my_adder(a,b):\n",
      "    return a + b**2"
     ],
     "language": "python",
     "metadata": {},
     "outputs": []
    },
    {
     "cell_type": "code",
     "collapsed": false,
     "input": [
      "print(my_adder(1,2))"
     ],
     "language": "python",
     "metadata": {},
     "outputs": []
    },
    {
     "cell_type": "code",
     "collapsed": false,
     "input": [
      "def filter_negative(input_list):\n",
      "    new_list = list()\n",
      "    for number in input_list:\n",
      "        if number >= 0:\n",
      "            new_list.append(number)\n",
      "        else:\n",
      "            pass\n",
      "    return new_list"
     ],
     "language": "python",
     "metadata": {},
     "outputs": []
    },
    {
     "cell_type": "code",
     "collapsed": false,
     "input": [
      "print(filter_negative([-4, 3, -1, -6, 3, 6]))"
     ],
     "language": "python",
     "metadata": {},
     "outputs": []
    },
    {
     "cell_type": "heading",
     "level": 3,
     "metadata": {},
     "source": [
      "Classes and objects"
     ]
    },
    {
     "cell_type": "markdown",
     "metadata": {},
     "source": [
      "<p>Everything in Python is an Object!\n",
      "<p>Objects have methods (functions), and data (attributes)"
     ]
    },
    {
     "cell_type": "heading",
     "level": 3,
     "metadata": {},
     "source": [
      "Modules and imports"
     ]
    },
    {
     "cell_type": "markdown",
     "metadata": {},
     "source": [
      "A module is a way to organize objects (classes), functions, constants, etc."
     ]
    },
    {
     "cell_type": "code",
     "collapsed": false,
     "input": [
      "from numpy import array"
     ],
     "language": "python",
     "metadata": {},
     "outputs": []
    },
    {
     "cell_type": "code",
     "collapsed": false,
     "input": [
      "print(array)"
     ],
     "language": "python",
     "metadata": {},
     "outputs": []
    },
    {
     "cell_type": "code",
     "collapsed": false,
     "input": [
      "x"
     ],
     "language": "python",
     "metadata": {},
     "outputs": []
    }
   ],
   "metadata": {}
  }
 ]
}