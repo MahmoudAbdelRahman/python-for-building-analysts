{
 "metadata": {
  "name": "",
  "signature": "sha256:f230ca742bdd27494aee8eae81ccbb82bcb9deae3efb2f2e36c5d340e890f61a"
 },
 "nbformat": 3,
 "nbformat_minor": 0,
 "worksheets": [
  {
   "cells": [
    {
     "cell_type": "markdown",
     "metadata": {},
     "source": [
      "#EnergyPlus Output Data Analysis Example\n",
      "    \n",
      "Created by Clayton Miller (miller.clayton@arch.ethz.ch) for the IBPSA/ASHRAE BuildingSimulation Python Workshop - 08.Sept 2014\n",
      "\n",
      "The goal of this notebook is to give a user a glimpse at the loading and manipulation of a .csv output of EnergyPlus\n",
      "\n",
      "Execute the cells in this notebook one at a time and try to understand what each code snippet is doing. There will be text notation before many of the cells attempting to explain what is going on."
     ]
    },
    {
     "cell_type": "markdown",
     "metadata": {},
     "source": [
      "First we load some libraries that we will use."
     ]
    },
    {
     "cell_type": "code",
     "collapsed": false,
     "input": [
      "import pandas as pd\n",
      "import datetime\n",
      "from datetime import timedelta\n",
      "import time"
     ],
     "language": "python",
     "metadata": {},
     "outputs": []
    },
    {
     "cell_type": "markdown",
     "metadata": {},
     "source": [
      "The following is a Python `fucntion` that I created ot read a .csv file, do a conversion and change the timestamp"
     ]
    },
    {
     "cell_type": "code",
     "collapsed": false,
     "input": [
      "def loadsimdata(file,pointname,ConvFactor):\n",
      "    df = pd.read_csv(file)\n",
      "    df['desiredpoint'] = df[pointname]*ConvFactor\n",
      "    df.index = eplustimestamp(df)\n",
      "    pointdf = df['desiredpoint']\n",
      "    return pointdf"
     ],
     "language": "python",
     "metadata": {},
     "outputs": []
    },
    {
     "cell_type": "markdown",
     "metadata": {},
     "source": [
      "##Open an EnergyPlus Output CSV file\n",
      "\n",
      "First let's open the .csv output file from an EnergyPlus run and visualize it."
     ]
    },
    {
     "cell_type": "code",
     "collapsed": false,
     "input": [
      "SimulationData = pd.read_csv('./ExampleData/EnergyplusSimulationData.csv')"
     ],
     "language": "python",
     "metadata": {},
     "outputs": []
    },
    {
     "cell_type": "code",
     "collapsed": false,
     "input": [
      "SimulationData"
     ],
     "language": "python",
     "metadata": {},
     "outputs": []
    },
    {
     "cell_type": "markdown",
     "metadata": {},
     "source": [
      "We can select a certain column and see what's inside -- there is quite a few columns in this output file. We can see using the `.info` function from pandas that there are 256 columns"
     ]
    },
    {
     "cell_type": "code",
     "collapsed": false,
     "input": [
      "SimulationData.info()"
     ],
     "language": "python",
     "metadata": {},
     "outputs": []
    },
    {
     "cell_type": "code",
     "collapsed": false,
     "input": [
      "SimulationData['AIRNODE_ZONENODE_U1_S:System Node Setpoint Temp[C](Hourly) ']"
     ],
     "language": "python",
     "metadata": {},
     "outputs": []
    },
    {
     "cell_type": "code",
     "collapsed": false,
     "input": [
      "SimulationData['Date/Time'].tail()"
     ],
     "language": "python",
     "metadata": {},
     "outputs": []
    },
    {
     "cell_type": "markdown",
     "metadata": {},
     "source": [
      "###We need to convert 24:00:00 to 00:00:00 for it to play nice with Pandas"
     ]
    },
    {
     "cell_type": "code",
     "collapsed": false,
     "input": [
      "#Function to convert timestamps\n",
      "def eplustimestamp(simdata):\n",
      "    timestampdict={}\n",
      "    for i,row in simdata.T.iteritems():\n",
      "        timestamp = str(2013) + row['Date/Time']\n",
      "        try:\n",
      "            timestampdict[i] = datetime.datetime.strptime(timestamp,'%Y %m/%d  %H:%M:%S')\n",
      "        except ValueError:\n",
      "            tempts = timestamp.replace(' 24', ' 23')\n",
      "            timestampdict[i] = datetime.datetime.strptime(tempts,'%Y %m/%d  %H:%M:%S')\n",
      "            timestampdict[i] += timedelta(hours=1)\n",
      "    timestampseries = pd.Series(timestampdict)\n",
      "    return timestampseries"
     ],
     "language": "python",
     "metadata": {},
     "outputs": []
    },
    {
     "cell_type": "code",
     "collapsed": false,
     "input": [
      "SimulationData.index = eplustimestamp(SimulationData)"
     ],
     "language": "python",
     "metadata": {},
     "outputs": []
    },
    {
     "cell_type": "code",
     "collapsed": false,
     "input": [
      "SimulationData.info()"
     ],
     "language": "python",
     "metadata": {},
     "outputs": []
    },
    {
     "cell_type": "code",
     "collapsed": false,
     "input": [
      "SimulationData['AIRNODE_ZONENODE_U1_S:System Node Setpoint Temp[C](Hourly) ']"
     ],
     "language": "python",
     "metadata": {},
     "outputs": []
    },
    {
     "cell_type": "code",
     "collapsed": false,
     "input": [
      "ColumnsList = pd.Series(SimulationData.columns)\n",
      "ColumnsList"
     ],
     "language": "python",
     "metadata": {},
     "outputs": []
    },
    {
     "cell_type": "markdown",
     "metadata": {},
     "source": [
      "##Built-in String Query functions to find desired columns\n",
      "\n",
      "We can use the string query functions in Pandas to find columns to select for visualization, etc without manually inputting them.\n"
     ]
    },
    {
     "cell_type": "code",
     "collapsed": false,
     "input": [
      "ColumnsList.str.endswith(\"Zone Mean Air Temperature [C](Hourly)\")"
     ],
     "language": "python",
     "metadata": {},
     "outputs": []
    },
    {
     "cell_type": "code",
     "collapsed": false,
     "input": [
      "ColumnsList[(ColumnsList.str.endswith(\"Zone Mean Air Temperature [C](Hourly)\"))]"
     ],
     "language": "python",
     "metadata": {},
     "outputs": []
    },
    {
     "cell_type": "code",
     "collapsed": false,
     "input": [
      "ZoneHeatEnergyPointList = list(ColumnsList[(ColumnsList.str.endswith(\"Zone Mean Air Temperature [C](Hourly)\"))])\n",
      "ZoneHeatEnergyPointList"
     ],
     "language": "python",
     "metadata": {},
     "outputs": []
    },
    {
     "cell_type": "code",
     "collapsed": false,
     "input": [
      "BasementZoneHeating = list(ColumnsList[(ColumnsList.str.endswith(\"Zone Mean Air Temperature [C](Hourly)\"))&(ColumnsList.str.contains(\"U1\"))])\n",
      "GroundFloorZoneHeating = list(ColumnsList[(ColumnsList.str.endswith(\"Zone Mean Air Temperature [C](Hourly)\"))&(ColumnsList.str.contains(\"00\"))])\n",
      "Floor1ZoneHeating = list(ColumnsList[(ColumnsList.str.endswith(\"Zone Mean Air Temperature [C](Hourly)\"))&(ColumnsList.str.contains(\"01\"))])\n",
      "Floor2ZoneHeating = list(ColumnsList[(ColumnsList.str.endswith(\"Zone Mean Air Temperature [C](Hourly)\"))&(ColumnsList.str.contains(\"02\"))])\n",
      "Floor3ZoneHeating = list(ColumnsList[(ColumnsList.str.endswith(\"Zone Mean Air Temperature [C](Hourly)\"))&(ColumnsList.str.contains(\"03\"))])\n",
      "Floor4ZoneHeating = list(ColumnsList[(ColumnsList.str.endswith(\"Zone Mean Air Temperature [C](Hourly)\"))&(ColumnsList.str.contains(\"04\"))])"
     ],
     "language": "python",
     "metadata": {},
     "outputs": []
    },
    {
     "cell_type": "code",
     "collapsed": false,
     "input": [
      "ZoneHeating = SimulationData[ZoneHeatEnergyPointList]#.drop(['EMS:All Zones Total Heating Energy {J}(Hourly)'],axis=1)"
     ],
     "language": "python",
     "metadata": {},
     "outputs": []
    },
    {
     "cell_type": "code",
     "collapsed": false,
     "input": [
      "ZoneHeating"
     ],
     "language": "python",
     "metadata": {},
     "outputs": []
    },
    {
     "cell_type": "markdown",
     "metadata": {},
     "source": [
      "###Convert from Joules to kWh"
     ]
    },
    {
     "cell_type": "code",
     "collapsed": false,
     "input": [
      "# ZoneHeating = ZoneHeating*0.0000002778"
     ],
     "language": "python",
     "metadata": {},
     "outputs": []
    },
    {
     "cell_type": "code",
     "collapsed": false,
     "input": [
      "ZoneHeating.plot(figsize=(25,25))"
     ],
     "language": "python",
     "metadata": {},
     "outputs": []
    },
    {
     "cell_type": "code",
     "collapsed": false,
     "input": [
      "ZoneHeating[BasementZoneHeating].plot(figsize=(25,10))"
     ],
     "language": "python",
     "metadata": {},
     "outputs": []
    },
    {
     "cell_type": "code",
     "collapsed": false,
     "input": [
      "SimulationData['Environment:Outdoor Dry Bulb [C](Hourly)'].truncate(before='2013-03-10',after='2013-03-14').plot(figsize=(25,10))"
     ],
     "language": "python",
     "metadata": {},
     "outputs": []
    },
    {
     "cell_type": "code",
     "collapsed": false,
     "input": [
      "ZoneHeating[GroundFloorZoneHeating].truncate(before='2013-03-10',after='2013-03-14').plot(figsize=(25,10))"
     ],
     "language": "python",
     "metadata": {},
     "outputs": []
    },
    {
     "cell_type": "code",
     "collapsed": false,
     "input": [
      "ZoneHeating[Floor1ZoneHeating].plot(figsize=(25,10))"
     ],
     "language": "python",
     "metadata": {},
     "outputs": []
    },
    {
     "cell_type": "code",
     "collapsed": false,
     "input": [
      "ZoneHeating[Floor2ZoneHeating].plot(figsize=(25,10))"
     ],
     "language": "python",
     "metadata": {},
     "outputs": []
    },
    {
     "cell_type": "code",
     "collapsed": false,
     "input": [
      "ZoneHeating[Floor3ZoneHeating].plot(figsize=(25,10))"
     ],
     "language": "python",
     "metadata": {},
     "outputs": []
    },
    {
     "cell_type": "code",
     "collapsed": false,
     "input": [
      "ZoneHeating[Floor4ZoneHeating].plot(figsize=(25,10))"
     ],
     "language": "python",
     "metadata": {},
     "outputs": []
    },
    {
     "cell_type": "code",
     "collapsed": false,
     "input": [],
     "language": "python",
     "metadata": {},
     "outputs": []
    },
    {
     "cell_type": "code",
     "collapsed": false,
     "input": [],
     "language": "python",
     "metadata": {},
     "outputs": []
    },
    {
     "cell_type": "code",
     "collapsed": false,
     "input": [],
     "language": "python",
     "metadata": {},
     "outputs": []
    }
   ],
   "metadata": {}
  }
 ]
}