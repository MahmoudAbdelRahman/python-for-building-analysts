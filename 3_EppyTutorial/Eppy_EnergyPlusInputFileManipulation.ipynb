{
 "metadata": {
  "name": "",
  "signature": "sha256:d95ef989f5e26ff47ca196d016de5d36496c9ba0b6bd07435de7a995d8a69992"
 },
 "nbformat": 3,
 "nbformat_minor": 0,
 "worksheets": [
  {
   "cells": [
    {
     "cell_type": "heading",
     "level": 1,
     "metadata": {},
     "source": [
      "Eppy Tutorial"
     ]
    },
    {
     "cell_type": "markdown",
     "metadata": {},
     "source": [
      "Authors: Santosh Philip, Leora Tanjuatco\n",
      "\n",
      "Modified by: Clayton Miller"
     ]
    },
    {
     "cell_type": "markdown",
     "metadata": {},
     "source": [
      "###Eppy is a scripting language for E+ idf files, and E+ output files. Eppy is written in the programming language Python. \n",
      "\n",
      "As a result it takes full advantage of the rich data structure and idioms that are avaliable in python. You can programmatically navigate, search, and modify E+ idf files using eppy. The power of using a scripting language allows you to do the following:\n",
      "\n",
      "- Make a large number of changes in an idf file with a few lines of eppy code.\n",
      "- Use conditions and filters when making changes to an idf file\n",
      "- Make changes to multiple idf files.\n",
      "- Read data from the output files of a E+ simulation run.\n",
      "- Based to the results of a E+ simulation run, generate the input file for the next simulation run.\n",
      "\n",
      "###So what does this matter? Here are some of the things you can do with eppy:\n",
      "\n",
      "- Change construction for all north facing walls.\n",
      "- Change the glass type for all windows larger than 2 square meters.\n",
      "- Change the number of people in all the interior zones.\n",
      "- Change the lighting power in all south facing zones. \n",
      "- Change the efficiency and fan power of all rooftop units.\n",
      "- Find the energy use of all the models in a folder (or of models that were run after a certain date) \n",
      "- If a model is using more energy than expected, keep increasing the R-value of the roof until you get to the expected energy use."
     ]
    },
    {
     "cell_type": "heading",
     "level": 2,
     "metadata": {},
     "source": [
      "Quick Start"
     ]
    },
    {
     "cell_type": "markdown",
     "metadata": {},
     "source": [
      "Here is a short IDF file that I\u2019ll be using as an example to start us off ::"
     ]
    },
    {
     "cell_type": "raw",
     "metadata": {},
     "source": [
      "    VERSION,\n",
      "        7.2;                     !- Version Identifier\n",
      "    \n",
      "    SIMULATIONCONTROL,\n",
      "        Yes,                     !- Do Zone Sizing Calculation\n",
      "        Yes,                     !- Do System Sizing Calculation\n",
      "        Yes,                     !- Do Plant Sizing Calculation\n",
      "        No,                      !- Run Simulation for Sizing Periods\n",
      "        Yes;                     !- Run Simulation for Weather File Run Periods\n",
      "    \n",
      "    BUILDING,\n",
      "        White House,             !- Name\n",
      "        30.,                     !- North Axis {deg}\n",
      "        City,                    !- Terrain\n",
      "        0.04,                    !- Loads Convergence Tolerance Value\n",
      "        0.4,                     !- Temperature Convergence Tolerance Value {deltaC}\n",
      "        FullExterior,            !- Solar Distribution\n",
      "        25,                      !- Maximum Number of Warmup Days\n",
      "        6;                       !- Minimum Number of Warmup Days\n",
      "    \n",
      "    SITE:LOCATION,\n",
      "        CHICAGO_IL_USA TMY2-94846,  !- Name\n",
      "        41.78,                   !- Latitude {deg}\n",
      "        -87.75,                  !- Longitude {deg}\n",
      "        -6.00,                   !- Time Zone {hr}\n",
      "        190.00;                  !- Elevation {m}\n"
     ]
    },
    {
     "cell_type": "markdown",
     "metadata": {},
     "source": [
      "First, we need to install the eppy library should be installed. Follow this link to learn how to use `pip` to install new Python Libraries\n",
      "\n",
      "To use eppy to look at this model, we first load the eppy library:"
     ]
    },
    {
     "cell_type": "code",
     "collapsed": false,
     "input": [
      "from eppy import modeleditor \n",
      "from eppy.modeleditor import IDF"
     ],
     "language": "python",
     "metadata": {},
     "outputs": [],
     "prompt_number": 1
    },
    {
     "cell_type": "code",
     "collapsed": false,
     "input": [
      "IDF.setiddname(\"Energy+V7_2_0.idd\")\n",
      "idf1 = IDF(\"smallidf.idf\")"
     ],
     "language": "python",
     "metadata": {},
     "outputs": [],
     "prompt_number": 2
    },
    {
     "cell_type": "markdown",
     "metadata": {},
     "source": [
      "idf1 now holds all the data to your in you idf file.  \n",
      "\n",
      "Now that the behind-the-scenes work is done, we can print this file. "
     ]
    },
    {
     "cell_type": "code",
     "collapsed": false,
     "input": [
      "idf1.printidf()"
     ],
     "language": "python",
     "metadata": {},
     "outputs": [
      {
       "output_type": "stream",
       "stream": "stdout",
       "text": [
        "\n",
        "VERSION,                  \n",
        "    7.3;                      !- Version Identifier\n",
        "\n",
        "SIMULATIONCONTROL,        \n",
        "    Yes,                      !- Do Zone Sizing Calculation\n",
        "    Yes,                      !- Do System Sizing Calculation\n",
        "    Yes,                      !- Do Plant Sizing Calculation\n",
        "    No,                       !- Run Simulation for Sizing Periods\n",
        "    Yes;                      !- Run Simulation for Weather File Run Periods\n",
        "\n",
        "BUILDING,                 \n",
        "    Empire State Building,    !- Name\n",
        "    30.0,                     !- North Axis\n",
        "    City,                     !- Terrain\n",
        "    0.04,                     !- Loads Convergence Tolerance Value\n",
        "    0.4,                      !- Temperature Convergence Tolerance Value\n",
        "    FullExterior,             !- Solar Distribution\n",
        "    25,                       !- Maximum Number of Warmup Days\n",
        "    6;                        !- Minimum Number of Warmup Days\n",
        "\n",
        "SITE:LOCATION,            \n",
        "    CHICAGO_IL_USA TMY2-94846,    !- Name\n",
        "    41.78,                    !- Latitude\n",
        "    -87.75,                   !- Longitude\n",
        "    -6.0,                     !- Time Zone\n",
        "    190.0;                    !- Elevation\n",
        "\n"
       ]
      }
     ],
     "prompt_number": 3
    },
    {
     "cell_type": "markdown",
     "metadata": {},
     "source": [
      "Looks like the same file as before, except that all the comments are slightly different."
     ]
    },
    {
     "cell_type": "markdown",
     "metadata": {},
     "source": [
      "As you can see, this file has four objects:\n",
      "\n",
      "- VERSION\n",
      "- SIMULATIONCONTROL\n",
      "- BUILDING\n",
      "- SITE:LOCATION"
     ]
    },
    {
     "cell_type": "markdown",
     "metadata": {},
     "source": [
      "So, let us look take a closer look at the BUILDING object.\n",
      "We can do this using this command::"
     ]
    },
    {
     "cell_type": "code",
     "collapsed": false,
     "input": [
      "idf1.idfobjects['BUILDING']  # put the name of the object you'd like to look at in brackets"
     ],
     "language": "python",
     "metadata": {},
     "outputs": [
      {
       "metadata": {},
       "output_type": "pyout",
       "prompt_number": 4,
       "text": [
        "[\n",
        "BUILDING,                 \n",
        "    Empire State Building,    !- Name\n",
        "    30.0,                     !- North Axis\n",
        "    City,                     !- Terrain\n",
        "    0.04,                     !- Loads Convergence Tolerance Value\n",
        "    0.4,                      !- Temperature Convergence Tolerance Value\n",
        "    FullExterior,             !- Solar Distribution\n",
        "    25,                       !- Maximum Number of Warmup Days\n",
        "    6;                        !- Minimum Number of Warmup Days\n",
        "]"
       ]
      }
     ],
     "prompt_number": 4
    },
    {
     "cell_type": "markdown",
     "metadata": {},
     "source": [
      "We can also zoom in on the object and look just at its individual parts.\n",
      "\n",
      "For example, let us look at the name of the building.\n",
      "\n",
      "To do this, we have to do some more behind-the-scenes work, which we'll explain later."
     ]
    },
    {
     "cell_type": "code",
     "collapsed": false,
     "input": [
      "building = idf1.idfobjects['BUILDING'][0]"
     ],
     "language": "python",
     "metadata": {},
     "outputs": [],
     "prompt_number": 5
    },
    {
     "cell_type": "markdown",
     "metadata": {},
     "source": [
      "Now we can do this:"
     ]
    },
    {
     "cell_type": "code",
     "collapsed": false,
     "input": [
      "building.Name"
     ],
     "language": "python",
     "metadata": {},
     "outputs": [
      {
       "metadata": {},
       "output_type": "pyout",
       "prompt_number": 6,
       "text": [
        "'Empire State Building'"
       ]
      }
     ],
     "prompt_number": 6
    },
    {
     "cell_type": "markdown",
     "metadata": {},
     "source": [
      "Now that we've isolated the building name, we can change it."
     ]
    },
    {
     "cell_type": "code",
     "collapsed": false,
     "input": [
      "building.Name = \"Chrysler Building\""
     ],
     "language": "python",
     "metadata": {},
     "outputs": [],
     "prompt_number": 7
    },
    {
     "cell_type": "code",
     "collapsed": false,
     "input": [
      "building.Name"
     ],
     "language": "python",
     "metadata": {},
     "outputs": [
      {
       "metadata": {},
       "output_type": "pyout",
       "prompt_number": 8,
       "text": [
        "'Chrysler Building'"
       ]
      }
     ],
     "prompt_number": 8
    },
    {
     "cell_type": "markdown",
     "metadata": {},
     "source": [
      "Did this actually change the name in the model ? Let us print the entire model and see."
     ]
    },
    {
     "cell_type": "code",
     "collapsed": false,
     "input": [
      "idf1.printidf()"
     ],
     "language": "python",
     "metadata": {},
     "outputs": [
      {
       "output_type": "stream",
       "stream": "stdout",
       "text": [
        "\n",
        "VERSION,                  \n",
        "    7.3;                      !- Version Identifier\n",
        "\n",
        "SIMULATIONCONTROL,        \n",
        "    Yes,                      !- Do Zone Sizing Calculation\n",
        "    Yes,                      !- Do System Sizing Calculation\n",
        "    Yes,                      !- Do Plant Sizing Calculation\n",
        "    No,                       !- Run Simulation for Sizing Periods\n",
        "    Yes;                      !- Run Simulation for Weather File Run Periods\n",
        "\n",
        "BUILDING,                 \n",
        "    Chrysler Building,        !- Name\n",
        "    30.0,                     !- North Axis\n",
        "    City,                     !- Terrain\n",
        "    0.04,                     !- Loads Convergence Tolerance Value\n",
        "    0.4,                      !- Temperature Convergence Tolerance Value\n",
        "    FullExterior,             !- Solar Distribution\n",
        "    25,                       !- Maximum Number of Warmup Days\n",
        "    6;                        !- Minimum Number of Warmup Days\n",
        "\n",
        "SITE:LOCATION,            \n",
        "    CHICAGO_IL_USA TMY2-94846,    !- Name\n",
        "    41.78,                    !- Latitude\n",
        "    -87.75,                   !- Longitude\n",
        "    -6.0,                     !- Time Zone\n",
        "    190.0;                    !- Elevation\n",
        "\n"
       ]
      }
     ],
     "prompt_number": 9
    },
    {
     "cell_type": "markdown",
     "metadata": {},
     "source": [
      "Yes! It did. So now you have a taste of what eppy can do. Let's get started!"
     ]
    },
    {
     "cell_type": "heading",
     "level": 2,
     "metadata": {},
     "source": [
      "Modifying IDF Fields"
     ]
    },
    {
     "cell_type": "markdown",
     "metadata": {},
     "source": [
      "That was just a quick example -- we were showing off. Let's look a little closer."
     ]
    },
    {
     "cell_type": "markdown",
     "metadata": {},
     "source": [
      "Plugging the object name (building), the field name (Name) and our new field name (\"Empire State Building\") into this command gave us this:"
     ]
    },
    {
     "cell_type": "code",
     "collapsed": false,
     "input": [
      "building.Name = \"Empire State Building\""
     ],
     "language": "python",
     "metadata": {},
     "outputs": [],
     "prompt_number": 10
    },
    {
     "cell_type": "markdown",
     "metadata": {},
     "source": [
      "In the IDF Editor, the building object is selected.\n",
      "\n",
      "We can see all the fields of the object \"BUILDING\".\n",
      "\n",
      "They are:\n",
      "\n",
      "- Name\n",
      "- North Axis\n",
      "- Terrain\n",
      "- Loads Convergence Tolerance Value\n",
      "- Temperature Convergence Tolerance Value\n",
      "- Solar Distribution\n",
      "- Maximum Number of Warmup Days\n",
      "- Minimum Number of Warmup Days\n",
      "\n",
      "Let us try to access the other fields."
     ]
    },
    {
     "cell_type": "code",
     "collapsed": false,
     "input": [
      "print building.Terrain"
     ],
     "language": "python",
     "metadata": {},
     "outputs": [
      {
       "output_type": "stream",
       "stream": "stdout",
       "text": [
        "City\n"
       ]
      }
     ],
     "prompt_number": 11
    },
    {
     "cell_type": "markdown",
     "metadata": {},
     "source": [
      "How about the field \"North Axis\" ?\n",
      "\n",
      "It is not a single word, but two words.\n",
      "\n",
      "In a programming language, a variable has to be a single word without any spaces.\n",
      "\n",
      "To solve this problem, put an underscore where there is a space.\n",
      "\n",
      "So \"North Axis\" becomes \"North_Axis\"."
     ]
    },
    {
     "cell_type": "code",
     "collapsed": false,
     "input": [
      "building.North_Axis"
     ],
     "language": "python",
     "metadata": {},
     "outputs": [
      {
       "metadata": {},
       "output_type": "pyout",
       "prompt_number": 12,
       "text": [
        "30.0"
       ]
      }
     ],
     "prompt_number": 12
    },
    {
     "cell_type": "markdown",
     "metadata": {},
     "source": [
      "Now we can do:"
     ]
    },
    {
     "cell_type": "code",
     "collapsed": false,
     "input": [
      "print building.Name\n",
      "print building.North_Axis\n",
      "print building.Terrain\n",
      "print building.Loads_Convergence_Tolerance_Value\n",
      "print building.Temperature_Convergence_Tolerance_Value\n",
      "print building.Solar_Distribution\n",
      "print building.Maximum_Number_of_Warmup_Days\n",
      "print building.Minimum_Number_of_Warmup_Days\n"
     ],
     "language": "python",
     "metadata": {},
     "outputs": [
      {
       "output_type": "stream",
       "stream": "stdout",
       "text": [
        "Empire State Building\n",
        "30.0\n",
        "City\n",
        "0.04\n",
        "0.4\n",
        "FullExterior\n",
        "25\n",
        "6\n"
       ]
      }
     ],
     "prompt_number": 13
    },
    {
     "cell_type": "markdown",
     "metadata": {},
     "source": [
      "Where else can we find the field names?\n",
      "\n",
      "The IDF Editor saves the idf file with the field name commented next to field.\n",
      "\n",
      "Eppy also does this.\n",
      "\n",
      "Let us take a look at the \"BUILDING\" object in the text file that the IDF Editor saves ::"
     ]
    },
    {
     "cell_type": "raw",
     "metadata": {},
     "source": [
      "    BUILDING,\n",
      "        White House,             !- Name\n",
      "        30.,                     !- North Axis {deg}\n",
      "        City,                    !- Terrain\n",
      "        0.04,                    !- Loads Convergence Tolerance Value\n",
      "        0.4,                     !- Temperature Convergence Tolerance Value {deltaC}\n",
      "        FullExterior,            !- Solar Distribution\n",
      "        25,                      !- Maximum Number of Warmup Days\n",
      "        6;                       !- Minimum Number of Warmup Days\n"
     ]
    },
    {
     "cell_type": "markdown",
     "metadata": {},
     "source": [
      "This a good place to find the field names too.\n",
      "\n",
      "It is easy to copy and paste from here. You can't do that from the IDF Editor."
     ]
    },
    {
     "cell_type": "markdown",
     "metadata": {},
     "source": [
      "We know that in an E+ model, there will be only ONE \"BUILDING\" object. This will be the first and only item in the list \"buildings\".\n",
      "\n",
      "But E+ models are made up of objects such as \"BUILDING\", \"SITE:LOCATION\", \"ZONE\", \"PEOPLE\", \"LIGHTS\".   There can be a number of \"ZONE\" objects, a number of \"PEOPLE\" objects and a number of \"LIGHTS\" objects.\n",
      "\n",
      "So how do you know if you're looking at the first \"ZONE\" object or the second one? Or the tenth one?  To answer this, we need to learn about how lists work in python.\n"
     ]
    },
    {
     "cell_type": "heading",
     "level": 2,
     "metadata": {},
     "source": [
      "Saving an idf file"
     ]
    },
    {
     "cell_type": "markdown",
     "metadata": {},
     "source": [
      "This is easy:"
     ]
    },
    {
     "cell_type": "code",
     "collapsed": false,
     "input": [
      "idf1.save()"
     ],
     "language": "python",
     "metadata": {},
     "outputs": [],
     "prompt_number": 14
    },
    {
     "cell_type": "markdown",
     "metadata": {},
     "source": [
      "If you'd like to do a \"Save as...\" use this:"
     ]
    },
    {
     "cell_type": "code",
     "collapsed": false,
     "input": [
      "idf1.saveas('something.idf')"
     ],
     "language": "python",
     "metadata": {},
     "outputs": [],
     "prompt_number": 15
    },
    {
     "cell_type": "heading",
     "level": 2,
     "metadata": {},
     "source": [
      "Working with E+ objects"
     ]
    },
    {
     "cell_type": "markdown",
     "metadata": {},
     "source": [
      "Let us open a small idf file that has only \"CONSTRUCTION\" and \"MATERIAL\" objects in it. You can go into \"../idffiles/V_7_2/constructions.idf\" and take a look at the file. We are not printing it here because it is too big.  \n",
      "\n",
      "So let us open it using the idfreader -"
     ]
    },
    {
     "cell_type": "code",
     "collapsed": false,
     "input": [
      "idf1 = IDF(\"constructions.idf\")"
     ],
     "language": "python",
     "metadata": {},
     "outputs": [],
     "prompt_number": 16
    },
    {
     "cell_type": "markdown",
     "metadata": {},
     "source": [
      "Let us print all the \"MATERIAL\" objects in this model."
     ]
    },
    {
     "cell_type": "code",
     "collapsed": false,
     "input": [
      "materials = idf1.idfobjects[\"MATERIAL\"]\n",
      "print materials"
     ],
     "language": "python",
     "metadata": {},
     "outputs": [
      {
       "output_type": "stream",
       "stream": "stdout",
       "text": [
        "[\n",
        "Material,                 \n",
        "    F08 Metal surface,        !- Name\n",
        "    Smooth,                   !- Roughness\n",
        "    0.0008,                   !- Thickness\n",
        "    45.28,                    !- Conductivity\n",
        "    7824.0,                   !- Density\n",
        "    500.0;                    !- Specific Heat\n",
        ", \n",
        "Material,                 \n",
        "    I01 25mm insulation board,    !- Name\n",
        "    MediumRough,              !- Roughness\n",
        "    0.0254,                   !- Thickness\n",
        "    0.03,                     !- Conductivity\n",
        "    43.0,                     !- Density\n",
        "    1210.0;                   !- Specific Heat\n",
        ", \n",
        "Material,                 \n",
        "    I02 50mm insulation board,    !- Name\n",
        "    MediumRough,              !- Roughness\n",
        "    0.0508,                   !- Thickness\n",
        "    0.03,                     !- Conductivity\n",
        "    43.0,                     !- Density\n",
        "    1210.0;                   !- Specific Heat\n",
        ", \n",
        "Material,                 \n",
        "    G01a 19mm gypsum board,    !- Name\n",
        "    MediumSmooth,             !- Roughness\n",
        "    0.019,                    !- Thickness\n",
        "    0.16,                     !- Conductivity\n",
        "    800.0,                    !- Density\n",
        "    1090.0;                   !- Specific Heat\n",
        ", \n",
        "Material,                 \n",
        "    M11 100mm lightweight concrete,    !- Name\n",
        "    MediumRough,              !- Roughness\n",
        "    0.1016,                   !- Thickness\n",
        "    0.53,                     !- Conductivity\n",
        "    1280.0,                   !- Density\n",
        "    840.0;                    !- Specific Heat\n",
        ", \n",
        "Material,                 \n",
        "    F16 Acoustic tile,        !- Name\n",
        "    MediumSmooth,             !- Roughness\n",
        "    0.0191,                   !- Thickness\n",
        "    0.06,                     !- Conductivity\n",
        "    368.0,                    !- Density\n",
        "    590.0;                    !- Specific Heat\n",
        ", \n",
        "Material,                 \n",
        "    M01 100mm brick,          !- Name\n",
        "    MediumRough,              !- Roughness\n",
        "    0.1016,                   !- Thickness\n",
        "    0.89,                     !- Conductivity\n",
        "    1920.0,                   !- Density\n",
        "    790.0;                    !- Specific Heat\n",
        ", \n",
        "Material,                 \n",
        "    M15 200mm heavyweight concrete,    !- Name\n",
        "    MediumRough,              !- Roughness\n",
        "    0.2032,                   !- Thickness\n",
        "    1.95,                     !- Conductivity\n",
        "    2240.0,                   !- Density\n",
        "    900.0;                    !- Specific Heat\n",
        ", \n",
        "Material,                 \n",
        "    M05 200mm concrete block,    !- Name\n",
        "    MediumRough,              !- Roughness\n",
        "    0.2032,                   !- Thickness\n",
        "    1.11,                     !- Conductivity\n",
        "    800.0,                    !- Density\n",
        "    920.0;                    !- Specific Heat\n",
        ", \n",
        "Material,                 \n",
        "    G05 25mm wood,            !- Name\n",
        "    MediumSmooth,             !- Roughness\n",
        "    0.0254,                   !- Thickness\n",
        "    0.15,                     !- Conductivity\n",
        "    608.0,                    !- Density\n",
        "    1630.0;                   !- Specific Heat\n",
        ", \n",
        "MATERIAL,                 \n",
        "    ,                         !- Name\n",
        "    ,                         !- Roughness\n",
        "    ,                         !- Thickness\n",
        "    ,                         !- Conductivity\n",
        "    ,                         !- Density\n",
        "    ,                         !- Specific Heat\n",
        "    0.9,                      !- Thermal Absorptance\n",
        "    0.7,                      !- Solar Absorptance\n",
        "    0.7;                      !- Visible Absorptance\n",
        "]\n"
       ]
      }
     ],
     "prompt_number": 17
    },
    {
     "cell_type": "markdown",
     "metadata": {},
     "source": [
      "As you can see, there are many material objects in this idf file.\n",
      "\n",
      "The variable \"materials\" now contains a list of \"MATERIAL\" objects.\n",
      "\n",
      "You already know a little about lists, so let us take a look at the items in this list.  "
     ]
    },
    {
     "cell_type": "code",
     "collapsed": false,
     "input": [
      "firstmaterial = materials[0]\n",
      "secondmaterial = materials[1]\n"
     ],
     "language": "python",
     "metadata": {},
     "outputs": [],
     "prompt_number": 18
    },
    {
     "cell_type": "code",
     "collapsed": false,
     "input": [
      "firstmaterial"
     ],
     "language": "python",
     "metadata": {},
     "outputs": [
      {
       "metadata": {},
       "output_type": "pyout",
       "prompt_number": 19,
       "text": [
        "\n",
        "Material,                 \n",
        "    F08 Metal surface,        !- Name\n",
        "    Smooth,                   !- Roughness\n",
        "    0.0008,                   !- Thickness\n",
        "    45.28,                    !- Conductivity\n",
        "    7824.0,                   !- Density\n",
        "    500.0;                    !- Specific Heat\n"
       ]
      }
     ],
     "prompt_number": 19
    },
    {
     "cell_type": "markdown",
     "metadata": {},
     "source": [
      "Let us print secondmaterial"
     ]
    },
    {
     "cell_type": "code",
     "collapsed": false,
     "input": [
      "secondmaterial"
     ],
     "language": "python",
     "metadata": {},
     "outputs": [
      {
       "metadata": {},
       "output_type": "pyout",
       "prompt_number": 20,
       "text": [
        "\n",
        "Material,                 \n",
        "    I01 25mm insulation board,    !- Name\n",
        "    MediumRough,              !- Roughness\n",
        "    0.0254,                   !- Thickness\n",
        "    0.03,                     !- Conductivity\n",
        "    43.0,                     !- Density\n",
        "    1210.0;                   !- Specific Heat\n"
       ]
      }
     ],
     "prompt_number": 20
    },
    {
     "cell_type": "markdown",
     "metadata": {},
     "source": [
      "This is awesome!! Why?\n",
      "\n",
      "To understand what you can do with your objects organized as lists, you'll have to learn a little more about lists."
     ]
    },
    {
     "cell_type": "heading",
     "level": 2,
     "metadata": {},
     "source": [
      "Continuing to work with E+ objects"
     ]
    },
    {
     "cell_type": "markdown",
     "metadata": {},
     "source": [
      "Let us get those \"MATERIAL\" objects again"
     ]
    },
    {
     "cell_type": "code",
     "collapsed": false,
     "input": [
      "materials = idf1.idfobjects[\"MATERIAL\"]"
     ],
     "language": "python",
     "metadata": {},
     "outputs": [],
     "prompt_number": 21
    },
    {
     "cell_type": "markdown",
     "metadata": {},
     "source": [
      "With our newfound knowledge of lists, we can do a lot of things.\n",
      "\n",
      "Let us get the last material:"
     ]
    },
    {
     "cell_type": "code",
     "collapsed": false,
     "input": [
      "materials[-1]"
     ],
     "language": "python",
     "metadata": {},
     "outputs": [
      {
       "metadata": {},
       "output_type": "pyout",
       "prompt_number": 22,
       "text": [
        "\n",
        "MATERIAL,                 \n",
        "    ,                         !- Name\n",
        "    ,                         !- Roughness\n",
        "    ,                         !- Thickness\n",
        "    ,                         !- Conductivity\n",
        "    ,                         !- Density\n",
        "    ,                         !- Specific Heat\n",
        "    0.9,                      !- Thermal Absorptance\n",
        "    0.7,                      !- Solar Absorptance\n",
        "    0.7;                      !- Visible Absorptance\n"
       ]
      }
     ],
     "prompt_number": 22
    },
    {
     "cell_type": "markdown",
     "metadata": {},
     "source": [
      "How about the last two?"
     ]
    },
    {
     "cell_type": "code",
     "collapsed": false,
     "input": [
      "materials[-2:]"
     ],
     "language": "python",
     "metadata": {},
     "outputs": [
      {
       "metadata": {},
       "output_type": "pyout",
       "prompt_number": 23,
       "text": [
        "[\n",
        "Material,                 \n",
        "    G05 25mm wood,            !- Name\n",
        "    MediumSmooth,             !- Roughness\n",
        "    0.0254,                   !- Thickness\n",
        "    0.15,                     !- Conductivity\n",
        "    608.0,                    !- Density\n",
        "    1630.0;                   !- Specific Heat\n",
        ",\n",
        " \n",
        "MATERIAL,                 \n",
        "    ,                         !- Name\n",
        "    ,                         !- Roughness\n",
        "    ,                         !- Thickness\n",
        "    ,                         !- Conductivity\n",
        "    ,                         !- Density\n",
        "    ,                         !- Specific Heat\n",
        "    0.9,                      !- Thermal Absorptance\n",
        "    0.7,                      !- Solar Absorptance\n",
        "    0.7;                      !- Visible Absorptance\n",
        "]"
       ]
      }
     ],
     "prompt_number": 23
    },
    {
     "cell_type": "markdown",
     "metadata": {},
     "source": [
      "Pretty good."
     ]
    },
    {
     "cell_type": "heading",
     "level": 4,
     "metadata": {},
     "source": [
      "Counting all the materials ( or counting all objects )"
     ]
    },
    {
     "cell_type": "markdown",
     "metadata": {},
     "source": [
      "How many materials are in this model ?"
     ]
    },
    {
     "cell_type": "code",
     "collapsed": false,
     "input": [
      "len(materials)"
     ],
     "language": "python",
     "metadata": {},
     "outputs": [
      {
       "metadata": {},
       "output_type": "pyout",
       "prompt_number": 24,
       "text": [
        "11"
       ]
      }
     ],
     "prompt_number": 24
    },
    {
     "cell_type": "heading",
     "level": 4,
     "metadata": {},
     "source": [
      "Removing a material"
     ]
    },
    {
     "cell_type": "markdown",
     "metadata": {},
     "source": [
      "Let us remove the last material in the list"
     ]
    },
    {
     "cell_type": "code",
     "collapsed": false,
     "input": [
      "was_last_material = materials.pop(-1)"
     ],
     "language": "python",
     "metadata": {},
     "outputs": [],
     "prompt_number": 25
    },
    {
     "cell_type": "code",
     "collapsed": false,
     "input": [
      "len(materials)"
     ],
     "language": "python",
     "metadata": {},
     "outputs": [
      {
       "metadata": {},
       "output_type": "pyout",
       "prompt_number": 26,
       "text": [
        "10"
       ]
      }
     ],
     "prompt_number": 26
    },
    {
     "cell_type": "markdown",
     "metadata": {},
     "source": [
      "Success! We have only 9 materials now."
     ]
    },
    {
     "cell_type": "markdown",
     "metadata": {},
     "source": [
      "The last material used to be:\n",
      "\n",
      "'G05 25mm wood'"
     ]
    },
    {
     "cell_type": "code",
     "collapsed": false,
     "input": [
      "materials[-1]"
     ],
     "language": "python",
     "metadata": {},
     "outputs": [
      {
       "metadata": {},
       "output_type": "pyout",
       "prompt_number": 27,
       "text": [
        "\n",
        "Material,                 \n",
        "    G05 25mm wood,            !- Name\n",
        "    MediumSmooth,             !- Roughness\n",
        "    0.0254,                   !- Thickness\n",
        "    0.15,                     !- Conductivity\n",
        "    608.0,                    !- Density\n",
        "    1630.0;                   !- Specific Heat\n"
       ]
      }
     ],
     "prompt_number": 27
    },
    {
     "cell_type": "markdown",
     "metadata": {},
     "source": [
      "Now the last material in the list is:\n",
      "\n",
      "'M15 200mm heavyweight concrete'"
     ]
    },
    {
     "cell_type": "heading",
     "level": 4,
     "metadata": {},
     "source": [
      "Adding a material to the list"
     ]
    },
    {
     "cell_type": "markdown",
     "metadata": {},
     "source": [
      "We still have the old last material"
     ]
    },
    {
     "cell_type": "code",
     "collapsed": false,
     "input": [
      "was_last_material"
     ],
     "language": "python",
     "metadata": {},
     "outputs": [
      {
       "metadata": {},
       "output_type": "pyout",
       "prompt_number": 28,
       "text": [
        "\n",
        "MATERIAL,                 \n",
        "    ,                         !- Name\n",
        "    ,                         !- Roughness\n",
        "    ,                         !- Thickness\n",
        "    ,                         !- Conductivity\n",
        "    ,                         !- Density\n",
        "    ,                         !- Specific Heat\n",
        "    0.9,                      !- Thermal Absorptance\n",
        "    0.7,                      !- Solar Absorptance\n",
        "    0.7;                      !- Visible Absorptance\n"
       ]
      }
     ],
     "prompt_number": 28
    },
    {
     "cell_type": "markdown",
     "metadata": {},
     "source": [
      "Let us add it back to the list"
     ]
    },
    {
     "cell_type": "code",
     "collapsed": false,
     "input": [
      "materials.append(was_last_material)"
     ],
     "language": "python",
     "metadata": {},
     "outputs": [],
     "prompt_number": 29
    },
    {
     "cell_type": "code",
     "collapsed": false,
     "input": [
      "len(materials)"
     ],
     "language": "python",
     "metadata": {},
     "outputs": [
      {
       "metadata": {},
       "output_type": "pyout",
       "prompt_number": 30,
       "text": [
        "11"
       ]
      }
     ],
     "prompt_number": 30
    },
    {
     "cell_type": "markdown",
     "metadata": {},
     "source": [
      "Once again we have 10 materials and the last material is:"
     ]
    },
    {
     "cell_type": "code",
     "collapsed": false,
     "input": [
      "materials[-1]"
     ],
     "language": "python",
     "metadata": {},
     "outputs": [
      {
       "metadata": {},
       "output_type": "pyout",
       "prompt_number": 31,
       "text": [
        "\n",
        "MATERIAL,                 \n",
        "    ,                         !- Name\n",
        "    ,                         !- Roughness\n",
        "    ,                         !- Thickness\n",
        "    ,                         !- Conductivity\n",
        "    ,                         !- Density\n",
        "    ,                         !- Specific Heat\n",
        "    0.9,                      !- Thermal Absorptance\n",
        "    0.7,                      !- Solar Absorptance\n",
        "    0.7;                      !- Visible Absorptance\n"
       ]
      }
     ],
     "prompt_number": 31
    },
    {
     "cell_type": "heading",
     "level": 4,
     "metadata": {},
     "source": [
      "Add a new material to the model"
     ]
    },
    {
     "cell_type": "markdown",
     "metadata": {},
     "source": [
      "So far we have been working only with materials that were already in the list.\n",
      "\n",
      "What if we want to make new material?\n",
      "\n",
      "Obviously we would use the function 'newidfobject'."
     ]
    },
    {
     "cell_type": "code",
     "collapsed": false,
     "input": [
      "idf1.newidfobject(\"MATERIAL\")"
     ],
     "language": "python",
     "metadata": {},
     "outputs": [
      {
       "metadata": {},
       "output_type": "pyout",
       "prompt_number": 32,
       "text": [
        "\n",
        "MATERIAL,                 \n",
        "    ,                         !- Name\n",
        "    ,                         !- Roughness\n",
        "    ,                         !- Thickness\n",
        "    ,                         !- Conductivity\n",
        "    ,                         !- Density\n",
        "    ,                         !- Specific Heat\n",
        "    0.9,                      !- Thermal Absorptance\n",
        "    0.7,                      !- Solar Absorptance\n",
        "    0.7;                      !- Visible Absorptance\n"
       ]
      }
     ],
     "prompt_number": 32
    },
    {
     "cell_type": "code",
     "collapsed": false,
     "input": [
      "len(materials)"
     ],
     "language": "python",
     "metadata": {},
     "outputs": [
      {
       "metadata": {},
       "output_type": "pyout",
       "prompt_number": 33,
       "text": [
        "12"
       ]
      }
     ],
     "prompt_number": 33
    },
    {
     "cell_type": "markdown",
     "metadata": {},
     "source": [
      "We have 11 items in the materials list.\n",
      "\n",
      "Let us take a look at the last material in the list, where this fancy new material was added"
     ]
    },
    {
     "cell_type": "code",
     "collapsed": false,
     "input": [
      "materials[-1]"
     ],
     "language": "python",
     "metadata": {},
     "outputs": [
      {
       "metadata": {},
       "output_type": "pyout",
       "prompt_number": 34,
       "text": [
        "\n",
        "MATERIAL,                 \n",
        "    ,                         !- Name\n",
        "    ,                         !- Roughness\n",
        "    ,                         !- Thickness\n",
        "    ,                         !- Conductivity\n",
        "    ,                         !- Density\n",
        "    ,                         !- Specific Heat\n",
        "    0.9,                      !- Thermal Absorptance\n",
        "    0.7,                      !- Solar Absorptance\n",
        "    0.7;                      !- Visible Absorptance\n"
       ]
      }
     ],
     "prompt_number": 34
    },
    {
     "cell_type": "markdown",
     "metadata": {},
     "source": [
      "Looks a little different from the other materials. It does have the name we gave it. \n",
      "\n",
      "Why do some fields have values and others are blank ?  \n",
      "\n",
      "\"addobject\" puts in all the default values, and leaves the others blank. It is up to us to put values in the the new fields. \n",
      "\n",
      "Let's do it now.  "
     ]
    },
    {
     "cell_type": "code",
     "collapsed": false,
     "input": [
      "materials[-1].Name = 'Peanut Butter'\n",
      "materials[-1].Roughness = 'MediumSmooth'\n",
      "materials[-1].Thickness = 0.03\n",
      "materials[-1].Conductivity = 0.16\n",
      "materials[-1].Density = 600\n",
      "materials[-1].Specific_Heat = 1500\n"
     ],
     "language": "python",
     "metadata": {},
     "outputs": [],
     "prompt_number": 35
    },
    {
     "cell_type": "code",
     "collapsed": false,
     "input": [
      "materials[-1]\n"
     ],
     "language": "python",
     "metadata": {},
     "outputs": [
      {
       "metadata": {},
       "output_type": "pyout",
       "prompt_number": 36,
       "text": [
        "\n",
        "MATERIAL,                 \n",
        "    Peanut Butter,            !- Name\n",
        "    MediumSmooth,             !- Roughness\n",
        "    0.03,                     !- Thickness\n",
        "    0.16,                     !- Conductivity\n",
        "    600,                      !- Density\n",
        "    1500,                     !- Specific Heat\n",
        "    0.9,                      !- Thermal Absorptance\n",
        "    0.7,                      !- Solar Absorptance\n",
        "    0.7;                      !- Visible Absorptance\n"
       ]
      }
     ],
     "prompt_number": 36
    },
    {
     "cell_type": "heading",
     "level": 4,
     "metadata": {},
     "source": [
      "Copy an existing material"
     ]
    },
    {
     "cell_type": "code",
     "collapsed": false,
     "input": [
      "Peanutbuttermaterial = materials[-1]\n",
      "idf1.copyidfobject(Peanutbuttermaterial)\n",
      "materials = idf1.idfobjects[\"MATERIAL\"]\n",
      "len(materials)\n",
      "materials[-1]"
     ],
     "language": "python",
     "metadata": {},
     "outputs": [
      {
       "metadata": {},
       "output_type": "pyout",
       "prompt_number": 37,
       "text": [
        "\n",
        "MATERIAL,                 \n",
        "    Peanut Butter,            !- Name\n",
        "    MediumSmooth,             !- Roughness\n",
        "    0.03,                     !- Thickness\n",
        "    0.16,                     !- Conductivity\n",
        "    600,                      !- Density\n",
        "    1500,                     !- Specific Heat\n",
        "    0.9,                      !- Thermal Absorptance\n",
        "    0.7,                      !- Solar Absorptance\n",
        "    0.7;                      !- Visible Absorptance\n"
       ]
      }
     ],
     "prompt_number": 37
    },
    {
     "cell_type": "heading",
     "level": 2,
     "metadata": {},
     "source": [
      "Looping through E+ objects"
     ]
    },
    {
     "cell_type": "markdown",
     "metadata": {},
     "source": [
      "If you have read the python explanation of loops, you are now masters of using loops.\n",
      "\n",
      "Let us use the loops with E+ objects.\n",
      "\n",
      "We'll continue to work with the materials list."
     ]
    },
    {
     "cell_type": "code",
     "collapsed": false,
     "input": [
      "for material in materials:\n",
      "    print material.Name "
     ],
     "language": "python",
     "metadata": {},
     "outputs": [
      {
       "output_type": "stream",
       "stream": "stdout",
       "text": [
        "F08 Metal surface\n",
        "I01 25mm insulation board\n",
        "I02 50mm insulation board\n",
        "G01a 19mm gypsum board\n",
        "M11 100mm lightweight concrete\n",
        "F16 Acoustic tile\n",
        "M01 100mm brick\n",
        "M15 200mm heavyweight concrete\n",
        "M05 200mm concrete block\n",
        "G05 25mm wood\n",
        "\n",
        "Peanut Butter\n",
        "Peanut Butter\n"
       ]
      }
     ],
     "prompt_number": 38
    },
    {
     "cell_type": "code",
     "collapsed": false,
     "input": [
      "[material.Name for material in materials] "
     ],
     "language": "python",
     "metadata": {},
     "outputs": [
      {
       "metadata": {},
       "output_type": "pyout",
       "prompt_number": 39,
       "text": [
        "['F08 Metal surface',\n",
        " 'I01 25mm insulation board',\n",
        " 'I02 50mm insulation board',\n",
        " 'G01a 19mm gypsum board',\n",
        " 'M11 100mm lightweight concrete',\n",
        " 'F16 Acoustic tile',\n",
        " 'M01 100mm brick',\n",
        " 'M15 200mm heavyweight concrete',\n",
        " 'M05 200mm concrete block',\n",
        " 'G05 25mm wood',\n",
        " '',\n",
        " 'Peanut Butter',\n",
        " 'Peanut Butter']"
       ]
      }
     ],
     "prompt_number": 39
    },
    {
     "cell_type": "code",
     "collapsed": false,
     "input": [
      "[material.Roughness for material in materials]"
     ],
     "language": "python",
     "metadata": {},
     "outputs": [
      {
       "metadata": {},
       "output_type": "pyout",
       "prompt_number": 40,
       "text": [
        "['Smooth',\n",
        " 'MediumRough',\n",
        " 'MediumRough',\n",
        " 'MediumSmooth',\n",
        " 'MediumRough',\n",
        " 'MediumSmooth',\n",
        " 'MediumRough',\n",
        " 'MediumRough',\n",
        " 'MediumRough',\n",
        " 'MediumSmooth',\n",
        " '',\n",
        " 'MediumSmooth',\n",
        " 'MediumSmooth']"
       ]
      }
     ],
     "prompt_number": 40
    },
    {
     "cell_type": "code",
     "collapsed": false,
     "input": [
      "[material.Thickness for material in materials]"
     ],
     "language": "python",
     "metadata": {},
     "outputs": [
      {
       "metadata": {},
       "output_type": "pyout",
       "prompt_number": 41,
       "text": [
        "[0.0008,\n",
        " 0.0254,\n",
        " 0.0508,\n",
        " 0.019,\n",
        " 0.1016,\n",
        " 0.0191,\n",
        " 0.1016,\n",
        " 0.2032,\n",
        " 0.2032,\n",
        " 0.0254,\n",
        " '',\n",
        " 0.03,\n",
        " 0.03]"
       ]
      }
     ],
     "prompt_number": 41
    },
    {
     "cell_type": "code",
     "collapsed": false,
     "input": [
      "[material.Thickness for material in materials if material.Thickness > 0.1]"
     ],
     "language": "python",
     "metadata": {},
     "outputs": [
      {
       "metadata": {},
       "output_type": "pyout",
       "prompt_number": 42,
       "text": [
        "[0.1016, 0.1016, 0.2032, 0.2032, '']"
       ]
      }
     ],
     "prompt_number": 42
    },
    {
     "cell_type": "code",
     "collapsed": false,
     "input": [
      "[material.Name for material in materials if material.Thickness > 0.1]"
     ],
     "language": "python",
     "metadata": {},
     "outputs": [
      {
       "metadata": {},
       "output_type": "pyout",
       "prompt_number": 43,
       "text": [
        "['M11 100mm lightweight concrete',\n",
        " 'M01 100mm brick',\n",
        " 'M15 200mm heavyweight concrete',\n",
        " 'M05 200mm concrete block',\n",
        " '']"
       ]
      }
     ],
     "prompt_number": 43
    },
    {
     "cell_type": "code",
     "collapsed": false,
     "input": [
      "thick_materials = [material for material in materials if material.Thickness > 0.1]"
     ],
     "language": "python",
     "metadata": {},
     "outputs": [],
     "prompt_number": 44
    },
    {
     "cell_type": "code",
     "collapsed": false,
     "input": [
      "thick_materials"
     ],
     "language": "python",
     "metadata": {},
     "outputs": [
      {
       "metadata": {},
       "output_type": "pyout",
       "prompt_number": 45,
       "text": [
        "[\n",
        "Material,                 \n",
        "    M11 100mm lightweight concrete,    !- Name\n",
        "    MediumRough,              !- Roughness\n",
        "    0.1016,                   !- Thickness\n",
        "    0.53,                     !- Conductivity\n",
        "    1280.0,                   !- Density\n",
        "    840.0;                    !- Specific Heat\n",
        ",\n",
        " \n",
        "Material,                 \n",
        "    M01 100mm brick,          !- Name\n",
        "    MediumRough,              !- Roughness\n",
        "    0.1016,                   !- Thickness\n",
        "    0.89,                     !- Conductivity\n",
        "    1920.0,                   !- Density\n",
        "    790.0;                    !- Specific Heat\n",
        ",\n",
        " \n",
        "Material,                 \n",
        "    M15 200mm heavyweight concrete,    !- Name\n",
        "    MediumRough,              !- Roughness\n",
        "    0.2032,                   !- Thickness\n",
        "    1.95,                     !- Conductivity\n",
        "    2240.0,                   !- Density\n",
        "    900.0;                    !- Specific Heat\n",
        ",\n",
        " \n",
        "Material,                 \n",
        "    M05 200mm concrete block,    !- Name\n",
        "    MediumRough,              !- Roughness\n",
        "    0.2032,                   !- Thickness\n",
        "    1.11,                     !- Conductivity\n",
        "    800.0,                    !- Density\n",
        "    920.0;                    !- Specific Heat\n",
        ",\n",
        " \n",
        "MATERIAL,                 \n",
        "    ,                         !- Name\n",
        "    ,                         !- Roughness\n",
        "    ,                         !- Thickness\n",
        "    ,                         !- Conductivity\n",
        "    ,                         !- Density\n",
        "    ,                         !- Specific Heat\n",
        "    0.9,                      !- Thermal Absorptance\n",
        "    0.7,                      !- Solar Absorptance\n",
        "    0.7;                      !- Visible Absorptance\n",
        "]"
       ]
      }
     ],
     "prompt_number": 45
    },
    {
     "cell_type": "code",
     "collapsed": false,
     "input": [
      "# change the names of the thick materials\n",
      "for material in thick_materials:\n",
      "    material.Name = \"THICK \" + material.Name   "
     ],
     "language": "python",
     "metadata": {},
     "outputs": [],
     "prompt_number": 46
    },
    {
     "cell_type": "code",
     "collapsed": false,
     "input": [
      "thick_materials"
     ],
     "language": "python",
     "metadata": {},
     "outputs": [
      {
       "metadata": {},
       "output_type": "pyout",
       "prompt_number": 47,
       "text": [
        "[\n",
        "Material,                 \n",
        "    THICK M11 100mm lightweight concrete,    !- Name\n",
        "    MediumRough,              !- Roughness\n",
        "    0.1016,                   !- Thickness\n",
        "    0.53,                     !- Conductivity\n",
        "    1280.0,                   !- Density\n",
        "    840.0;                    !- Specific Heat\n",
        ",\n",
        " \n",
        "Material,                 \n",
        "    THICK M01 100mm brick,    !- Name\n",
        "    MediumRough,              !- Roughness\n",
        "    0.1016,                   !- Thickness\n",
        "    0.89,                     !- Conductivity\n",
        "    1920.0,                   !- Density\n",
        "    790.0;                    !- Specific Heat\n",
        ",\n",
        " \n",
        "Material,                 \n",
        "    THICK M15 200mm heavyweight concrete,    !- Name\n",
        "    MediumRough,              !- Roughness\n",
        "    0.2032,                   !- Thickness\n",
        "    1.95,                     !- Conductivity\n",
        "    2240.0,                   !- Density\n",
        "    900.0;                    !- Specific Heat\n",
        ",\n",
        " \n",
        "Material,                 \n",
        "    THICK M05 200mm concrete block,    !- Name\n",
        "    MediumRough,              !- Roughness\n",
        "    0.2032,                   !- Thickness\n",
        "    1.11,                     !- Conductivity\n",
        "    800.0,                    !- Density\n",
        "    920.0;                    !- Specific Heat\n",
        ",\n",
        " \n",
        "MATERIAL,                 \n",
        "    THICK ,                   !- Name\n",
        "    ,                         !- Roughness\n",
        "    ,                         !- Thickness\n",
        "    ,                         !- Conductivity\n",
        "    ,                         !- Density\n",
        "    ,                         !- Specific Heat\n",
        "    0.9,                      !- Thermal Absorptance\n",
        "    0.7,                      !- Solar Absorptance\n",
        "    0.7;                      !- Visible Absorptance\n",
        "]"
       ]
      }
     ],
     "prompt_number": 47
    },
    {
     "cell_type": "markdown",
     "metadata": {},
     "source": [
      "So now we're working with two different lists: materials and thick_materials.\n",
      "\n",
      "But even though the items can be separated into two lists, we're still working with the same items.\n",
      "\n",
      "Here's a helpful illustration:"
     ]
    },
    {
     "cell_type": "code",
     "collapsed": false,
     "input": [
      "# here's the same concept, demonstrated with code\n",
      "# remember, we changed the names of the items in the list thick_materials\n",
      "# these changes are visible when we print the materials list; the thick materials are also in the materials list\n",
      "[material.Name for material in materials]"
     ],
     "language": "python",
     "metadata": {},
     "outputs": [
      {
       "metadata": {},
       "output_type": "pyout",
       "prompt_number": 48,
       "text": [
        "['F08 Metal surface',\n",
        " 'I01 25mm insulation board',\n",
        " 'I02 50mm insulation board',\n",
        " 'G01a 19mm gypsum board',\n",
        " 'THICK M11 100mm lightweight concrete',\n",
        " 'F16 Acoustic tile',\n",
        " 'THICK M01 100mm brick',\n",
        " 'THICK M15 200mm heavyweight concrete',\n",
        " 'THICK M05 200mm concrete block',\n",
        " 'G05 25mm wood',\n",
        " 'THICK ',\n",
        " 'Peanut Butter',\n",
        " 'Peanut Butter']"
       ]
      }
     ],
     "prompt_number": 48
    },
    {
     "cell_type": "heading",
     "level": 2,
     "metadata": {},
     "source": [
      "Geometry functions in eppy"
     ]
    },
    {
     "cell_type": "markdown",
     "metadata": {},
     "source": [
      "Sometimes, we want information about the E+ object that is not in the fields. For example, it would be useful to know the areas and orientations of the surfaces. These attributes of the surfaces are not in the fields of surfaces, but surface objects *do* have fields that have the coordinates of the surface. The areas and orientations can be calculated from these coordinates.  \n",
      "\n",
      "Pyeplus has some functions that will do the calculations.  \n",
      "\n",
      "In the present version, pyeplus will calculate:\n",
      "\n",
      "- surface azimuth\n",
      "- surface tilt\n",
      "- surface area\n",
      "\n",
      "Let us explore these functions"
     ]
    },
    {
     "cell_type": "code",
     "collapsed": false,
     "input": [
      "idf1 = IDF(\"5ZoneSupRetPlenRAB.idf\")\n",
      "surfaces = idf1.idfobjects['BUILDINGSURFACE:DETAILED']"
     ],
     "language": "python",
     "metadata": {},
     "outputs": [],
     "prompt_number": 49
    },
    {
     "cell_type": "code",
     "collapsed": false,
     "input": [
      "# Let us look at the first surface\n",
      "surface = surfaces[0]\n",
      "print \"surface azimuth =\",  surface.azimuth, \"degrees\"\n",
      "print \"surface tilt =\", surface.tilt, \"degrees\"\n",
      "print \"surface area =\", surface.area, \"m2\"\n"
     ],
     "language": "python",
     "metadata": {},
     "outputs": [
      {
       "output_type": "stream",
       "stream": "stdout",
       "text": [
        "surface azimuth = 180.0 degrees\n",
        "surface tilt = 90.0 degrees\n",
        "surface area = 18.3 m2\n"
       ]
      }
     ],
     "prompt_number": 50
    },
    {
     "cell_type": "code",
     "collapsed": false,
     "input": [
      "# all the surface names\n",
      "s_names = [surface.Name for surface in surfaces]\n",
      "print s_names[:5] # print five of them\n"
     ],
     "language": "python",
     "metadata": {},
     "outputs": [
      {
       "output_type": "stream",
       "stream": "stdout",
       "text": [
        "['WALL-1PF', 'WALL-1PR', 'WALL-1PB', 'WALL-1PL', 'TOP-1']\n"
       ]
      }
     ],
     "prompt_number": 51
    },
    {
     "cell_type": "code",
     "collapsed": false,
     "input": [
      "# surface names and azimuths\n",
      "s_names_azm = [(sf.Name, sf.azimuth) for sf in surfaces]\n",
      "print s_names_azm[:5] # print five of them\n"
     ],
     "language": "python",
     "metadata": {},
     "outputs": [
      {
       "output_type": "stream",
       "stream": "stdout",
       "text": [
        "[('WALL-1PF', 180.0), ('WALL-1PR', 90.0), ('WALL-1PB', 0.0), ('WALL-1PL', 270.0), ('TOP-1', 0.0)]\n"
       ]
      }
     ],
     "prompt_number": 52
    },
    {
     "cell_type": "code",
     "collapsed": false,
     "input": [
      "# or to do that in pretty printing\n",
      "for name, azimuth in s_names_azm[:5]: # just five of them\n",
      "    print name, azimuth\n",
      "    "
     ],
     "language": "python",
     "metadata": {},
     "outputs": [
      {
       "output_type": "stream",
       "stream": "stdout",
       "text": [
        "WALL-1PF 180.0\n",
        "WALL-1PR 90.0\n",
        "WALL-1PB 0.0\n",
        "WALL-1PL 270.0\n",
        "TOP-1 0.0\n"
       ]
      }
     ],
     "prompt_number": 53
    },
    {
     "cell_type": "code",
     "collapsed": false,
     "input": [
      "# surface names and tilt\n",
      "s_names_tilt = [(sf.Name, sf.tilt) for sf in surfaces]\n",
      "\n",
      "for name, tilt in s_names_tilt[:5]: # just five of them\n",
      "    print name, tilt"
     ],
     "language": "python",
     "metadata": {},
     "outputs": [
      {
       "output_type": "stream",
       "stream": "stdout",
       "text": [
        "WALL-1PF 90.0\n",
        "WALL-1PR 90.0\n",
        "WALL-1PB 90.0\n",
        "WALL-1PL 90.0\n",
        "TOP-1 0.0\n"
       ]
      }
     ],
     "prompt_number": 54
    },
    {
     "cell_type": "code",
     "collapsed": false,
     "input": [
      "# surface names and areas\n",
      "s_names_area = [(sf.Name, sf.area) for sf in surfaces]\n",
      "\n",
      "for name, area in s_names_area[:5]: # just five of them\n",
      "    print name, area, \"m2\""
     ],
     "language": "python",
     "metadata": {},
     "outputs": [
      {
       "output_type": "stream",
       "stream": "stdout",
       "text": [
        "WALL-1PF 18.3 m2\n",
        "WALL-1PR 9.12 m2\n",
        "WALL-1PB 18.3 m2\n",
        "WALL-1PL 9.12 m2\n",
        "TOP-1 463.6 m2\n"
       ]
      }
     ],
     "prompt_number": 55
    },
    {
     "cell_type": "markdown",
     "metadata": {},
     "source": [
      "Let us try to isolate the exterior north facing walls and change their construnctions"
     ]
    },
    {
     "cell_type": "code",
     "collapsed": false,
     "input": [
      "# just vertical walls\n",
      "vertical_walls = [sf for sf in surfaces if sf.tilt == 90.0]\n",
      "print [sf.Name for sf in vertical_walls]"
     ],
     "language": "python",
     "metadata": {},
     "outputs": [
      {
       "output_type": "stream",
       "stream": "stdout",
       "text": [
        "['WALL-1PF', 'WALL-1PR', 'WALL-1PB', 'WALL-1PL', 'FRONT-1', 'SB12', 'SB14', 'SB15', 'RIGHT-1', 'SB21', 'SB23', 'BACK-1', 'SB32', 'SB35', 'LEFT-1', 'SB41', 'SB43', 'SB45', 'SB51', 'SB54', 'WALL-1SF', 'WALL-1SR', 'WALL-1SB', 'WALL-1SL']\n"
       ]
      }
     ],
     "prompt_number": 56
    },
    {
     "cell_type": "code",
     "collapsed": false,
     "input": [
      "# north facing walls\n",
      "north_walls = [sf for sf in vertical_walls if sf.azimuth == 0.0]\n",
      "print [sf.Name for sf in north_walls]"
     ],
     "language": "python",
     "metadata": {},
     "outputs": [
      {
       "output_type": "stream",
       "stream": "stdout",
       "text": [
        "['WALL-1PB', 'SB15', 'BACK-1', 'WALL-1SB']\n"
       ]
      }
     ],
     "prompt_number": 57
    },
    {
     "cell_type": "code",
     "collapsed": false,
     "input": [
      "# north facing exterior walls\n",
      "exterior_nwall = [sf for sf in north_walls if sf.Outside_Boundary_Condition == \"Outdoors\"]\n",
      "print [sf.Name for sf in exterior_nwall]"
     ],
     "language": "python",
     "metadata": {},
     "outputs": [
      {
       "output_type": "stream",
       "stream": "stdout",
       "text": [
        "['WALL-1PB', 'BACK-1', 'WALL-1SB']\n"
       ]
      }
     ],
     "prompt_number": 58
    },
    {
     "cell_type": "code",
     "collapsed": false,
     "input": [
      "# print out some more details of the north wall\n",
      "north_wall_info = [(sf.Name, sf.azimuth, sf.Construction_Name) for sf in exterior_nwall]\n",
      "for name, azimuth, construction in north_wall_info:\n",
      "    print name, azimuth, construction   "
     ],
     "language": "python",
     "metadata": {},
     "outputs": [
      {
       "output_type": "stream",
       "stream": "stdout",
       "text": [
        "WALL-1PB 0.0 WALL-1\n",
        "BACK-1 0.0 WALL-1\n",
        "WALL-1SB 0.0 WALL-1\n"
       ]
      }
     ],
     "prompt_number": 59
    },
    {
     "cell_type": "code",
     "collapsed": false,
     "input": [
      "# change the construction in the exterior north walls\n",
      "for wall in exterior_nwall:\n",
      "    wall.Construction_Name = \"NORTHERN-WALL\" # make sure such a construction exists in the model   "
     ],
     "language": "python",
     "metadata": {},
     "outputs": [],
     "prompt_number": 60
    },
    {
     "cell_type": "code",
     "collapsed": false,
     "input": [
      "# see the change\n",
      "north_wall_info = [(sf.Name, sf.azimuth, sf.Construction_Name) for sf in exterior_nwall]\n",
      "for name, azimuth, construction in north_wall_info:\n",
      "    print name, azimuth, construction  "
     ],
     "language": "python",
     "metadata": {},
     "outputs": [
      {
       "output_type": "stream",
       "stream": "stdout",
       "text": [
        "WALL-1PB 0.0 NORTHERN-WALL\n",
        "BACK-1 0.0 NORTHERN-WALL\n",
        "WALL-1SB 0.0 NORTHERN-WALL\n"
       ]
      }
     ],
     "prompt_number": 61
    },
    {
     "cell_type": "code",
     "collapsed": false,
     "input": [
      "# see this in all surfaces\n",
      "for sf in surfaces:\n",
      "    print sf.Name, sf.azimuth, sf.Construction_Name"
     ],
     "language": "python",
     "metadata": {},
     "outputs": [
      {
       "output_type": "stream",
       "stream": "stdout",
       "text": [
        "WALL-1PF 180.0 WALL-1\n",
        "WALL-1PR 90.0 WALL-1\n",
        "WALL-1PB 0.0 NORTHERN-WALL\n",
        "WALL-1PL 270.0 WALL-1\n",
        "TOP-1 0.0 ROOF-1\n",
        "C1-1P 0.0 CLNG-1\n",
        "C2-1P 0.0 CLNG-1\n",
        "C3-1P 0.0 CLNG-1\n",
        "C4-1P 0.0 CLNG-1\n",
        "C5-1P 180.0 CLNG-1\n",
        "FRONT-1 180.0 WALL-1\n",
        "C1-1 180.0 CLNG-1\n",
        "F1-1 0.0 CLNG-1\n",
        "SB12 45.0 INT-WALL-1\n",
        "SB14 315.0 INT-WALL-1\n",
        "SB15 0.0 INT-WALL-1\n",
        "RIGHT-1 90.0 WALL-1\n",
        "C2-1 0.0 CLNG-1\n",
        "F2-1 0.0 CLNG-1\n",
        "SB21 225.0 INT-WALL-1\n",
        "SB23 315.784824603 INT-WALL-1\n",
        "SB25 270.0 INT-WALL-1\n",
        "BACK-1 0.0 NORTHERN-WALL\n",
        "C3-1 0.0 CLNG-1\n",
        "F3-1 0.0 CLNG-1\n",
        "SB32 135.784824603 INT-WALL-1\n",
        "SB34 224.215175397 INT-WALL-1\n",
        "SB35 180.0 INT-WALL-1\n",
        "LEFT-1 270.0 WALL-1\n",
        "C4-1 0.0 CLNG-1\n",
        "F4-1 0.0 CLNG-1\n",
        "SB41 135.0 INT-WALL-1\n",
        "SB43 44.215175397 INT-WALL-1\n",
        "SB45 90.0 INT-WALL-1\n",
        "C5-1 0.0 CLNG-1\n",
        "F5-1 0.0 CLNG-1\n",
        "SB51 180.0 INT-WALL-1\n",
        "SB52 90.0 INT-WALL-1\n",
        "SB53 0.0 INT-WALL-1\n",
        "SB54 270.0 INT-WALL-1\n",
        "WALL-1SF 180.0 WALL-1\n",
        "WALL-1SR 90.0 WALL-1\n",
        "WALL-1SB 0.0 NORTHERN-WALL\n",
        "WALL-1SL 270.0 WALL-1\n",
        "BOTTOM-1 0.0 FLOOR-SLAB-1\n",
        "F1-1S 0.0 CLNG-1\n",
        "F2-1S 0.0 CLNG-1\n",
        "F3-1S 0.0 CLNG-1\n",
        "F4-1S 0.0 CLNG-1\n",
        "F5-1S 0.0 CLNG-1\n"
       ]
      }
     ],
     "prompt_number": 62
    },
    {
     "cell_type": "markdown",
     "metadata": {},
     "source": [
      "You can see the \"NORTHERN-WALL\" in the print out above.\n",
      "\n",
      "This shows that very sophisticated modification can be made to the model rather quickly. "
     ]
    },
    {
     "cell_type": "code",
     "collapsed": false,
     "input": [],
     "language": "python",
     "metadata": {},
     "outputs": []
    }
   ],
   "metadata": {}
  }
 ]
}