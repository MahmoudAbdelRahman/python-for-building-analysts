{
 "metadata": {
  "name": "",
  "signature": "sha256:fc7c71b02b99d9ebcc7c8f0ade4eb91a5b6505b577fcfab371558f65bc2fd0fd"
 },
 "nbformat": 3,
 "nbformat_minor": 0,
 "worksheets": [
  {
   "cells": [
    {
     "cell_type": "markdown",
     "metadata": {},
     "source": [
      "#Using SciPy to create EnergyPlus VRV Performance Curves\n",
      "    \n",
      "Created by Clayton Miller (miller.clayton@arch.ethz.ch) for the IBPSA/ASHRAE BuildingSimulation Python Workshop - 08.Sept 2014\n",
      "\n",
      "###The goal of this demo is to show how to load CSV Data from a VRV performance specification to create EnergyPlus performance curve objects"
     ]
    },
    {
     "cell_type": "code",
     "collapsed": false,
     "input": [
      "cd ExampleScripts"
     ],
     "language": "python",
     "metadata": {},
     "outputs": []
    },
    {
     "cell_type": "code",
     "collapsed": false,
     "input": [
      "from pylab import *\n",
      "from scipy.optimize import leastsq\n",
      "import csv\n",
      "import matplotlib.pyplot as plt\n",
      "from VRFfunctions import *\n",
      "from VRF_IDFObjectsTemplates import *\n",
      "from mpl_toolkits.mplot3d import axes3d, Axes3D"
     ],
     "language": "python",
     "metadata": {},
     "outputs": []
    },
    {
     "cell_type": "code",
     "collapsed": false,
     "input": [
      "cd .."
     ],
     "language": "python",
     "metadata": {},
     "outputs": []
    },
    {
     "cell_type": "code",
     "collapsed": false,
     "input": [
      "#LeastSq R^2 Calc\n",
      "def calcerror(infodict,xdata):\n",
      "    ss_err=(infodict['fvec']**2).sum()\n",
      "    ss_tot=((xdata-xdata.mean())**2).sum()\n",
      "    rsquared=1-(ss_err/ss_tot)\n",
      "    return (rsquared)"
     ],
     "language": "python",
     "metadata": {},
     "outputs": []
    },
    {
     "cell_type": "code",
     "collapsed": false,
     "input": [
      "#Creates EIRFT and CAPFT\n",
      "def FTCurves(TotalData,RatEnergy):\n",
      "#Create the CAPFT and EIRFT Curves\n",
      "#Start by aggregating the IWB, ODB, and CapRatio\n",
      "    IWB,ODB,CapRatio,PowerRatio=[],[],[],[]\n",
      "    for measurement in TotalData:\n",
      "        if measurement[0]==100.0:\n",
      "            IWB.append(measurement[2])\n",
      "            ODB.append(measurement[3])\n",
      "            CapRatio.append(measurement[4]/measurement[1])\n",
      "            PowerRatio.append(measurement[5]/RatEnergy)\n",
      "\n",
      "    npIWB=np.array(IWB)\n",
      "    IWBmax,IWBmin = max(npIWB),min(npIWB)\n",
      "    npODB=np.array(ODB)\n",
      "    ODBmax,ODBmin = max(npODB),min(npODB)\n",
      "    npCapRatio=np.array(CapRatio)\n",
      "    npPowerRatio=np.array(PowerRatio)\n",
      "    #    print npPowerRatio\n",
      "    #    print npCapRatio\n",
      "\n",
      "    p0=[0,0,0,0,0,0] # initial guesses\n",
      "\n",
      "    #Least Square Optimization to find parameters\n",
      "    CAPFT,cov,infodict,mesg,ier = leastsq(residualsTwoDimBiquadratic,p0,args=(npCapRatio,npIWB,npODB),full_output=1)\n",
      "    CAPFTerr = calcerror(infodict,npCapRatio)\n",
      "    #print CAPFT\n",
      "    #print CAPFTerr\n",
      "    EIRFT,cov,infodict,mesg,ier = leastsq(residualsTwoDimBiquadratic,p0,args=(npPowerRatio,npIWB,npODB),full_output=1)\n",
      "    #print EIRFT\n",
      "    EIRFTerr = calcerror(infodict,npPowerRatio)\n",
      "    #print EIRFTerr\n",
      "\n",
      "    #Can Plot to Compare Fit\n",
      "    CAPPredict = TwoDimBiquadratic(npIWB,npODB,CAPFT)\n",
      "    plotcurve(npIWB,npODB,npCapRatio,CAPPredict)\n",
      "\n",
      "    return CAPFT,EIRFT,CAPFTerr,EIRFTerr,IWBmax,IWBmin,ODBmax,ODBmin"
     ],
     "language": "python",
     "metadata": {},
     "outputs": []
    },
    {
     "cell_type": "code",
     "collapsed": false,
     "input": [
      "#Creates EIRModFunctions - Modifies EIRRatio as a function of CombRatio\n",
      "def EIRModifier(TotalData,RatedIWB,RatedODB,RatEnergy):\n",
      "    CombRatioHi,CapRatioHi,PowerRatioHi=[],[],[]\n",
      "    CombRatioLo,CapRatioLo,PowerRatioLo=[],[],[]\n",
      "    for measurement in TotalData:\n",
      "        if measurement[2] == RatedIWB and measurement[3] == RatedODB:\n",
      "            if measurement[0] > 100.0:\n",
      "                CapRatioHi.append(measurement[4]/measurement[1])\n",
      "                PowerRatioHi.append(measurement[5]/RatEnergy)\n",
      "                CombRatioHi.append(measurement[0])\n",
      "            elif measurement[0]<= 100.0:\n",
      "                CapRatioLo.append(measurement[4]/measurement[1])\n",
      "                PowerRatioLo.append(measurement[5]/RatEnergy)\n",
      "                CombRatioLo.append(measurement[0])\n",
      "\n",
      "    #print CapRatio,PowerRatio,CombRatio\n",
      "\n",
      "    npCombRatioHi = np.array(CombRatioHi)\n",
      "    npPowerRatioHi = np.array(PowerRatioHi)\n",
      "    npCombRatioLo = np.array(CombRatioLo)\n",
      "    npPowerRatioLo = np.array(PowerRatioLo)\n",
      "\n",
      "    #Calc EIRHiModFunction\n",
      "    p0=[0,0,0] # initial guesses\n",
      "    #Least Square Optimization to find parameters\n",
      "    EIRModFTHi,cov,infodict,mesg,ier = leastsq(residualsOneDimQuadratic,p0,\n",
      "                                             args=(npPowerRatioHi,npCombRatioHi),full_output=1)\n",
      "    EIRModFTHierr = calcerror(infodict,npPowerRatioHi)\n",
      "    #print EIRModFT\n",
      "    #print EIRModFTerr\n",
      "\n",
      "    #Calc EIRHiModFunction\n",
      "    p0=[0,0,0,0] # initial guesses\n",
      "    #Least Square Optimization to find parameters\n",
      "    EIRModFTLo,cov,infodict,mesg,ier = leastsq(residualsOneDimCubic,p0,\n",
      "                                             args=(npPowerRatioLo,npCombRatioLo),full_output=1)\n",
      "    EIRModFTLoerr = calcerror(infodict,npPowerRatioLo)\n",
      "    #print EIRModFT\n",
      "    #print EIRModFTerr\n",
      "\n",
      "    return EIRModFTHi,EIRModFTHierr,EIRModFTLo,EIRModFTLoerr"
     ],
     "language": "python",
     "metadata": {},
     "outputs": []
    },
    {
     "cell_type": "markdown",
     "metadata": {},
     "source": [
      "Creates Cooling Combination Ratio Correction Factor - Modifies Capacity as a function of CombRatio\n",
      "Only applies to Comb Ratios above 100%"
     ]
    },
    {
     "cell_type": "code",
     "collapsed": false,
     "input": [
      "\n",
      "def CCRCF(TotalData,RatedIWB,RatedODB):\n",
      "    CapRatio,CombRatio=[],[]\n",
      "    CombDivisor = float(100)\n",
      "    for measurement in TotalData:\n",
      "        if measurement[2] == RatedIWB and measurement[3] == RatedODB and measurement[0] > 100:\n",
      "            CombRatio.append(measurement[0]/CombDivisor)\n",
      "            CapRatio.append(measurement[4]/measurement[1])\n",
      "\n",
      "    npCapRatio=np.array(CapRatio)\n",
      "    npCombRatio=np.array(CombRatio)\n",
      "\n",
      "    #Calc Linear Cooling Combination Ratio Correction Factor\n",
      "    p0=[0,0] # initial guesses\n",
      "    #Least Square Optimization to find parameters\n",
      "    CCRCFactor,cov,infodict,mesg,ier = leastsq(residualsOneDimLinear,p0,args=(npCapRatio,npCombRatio),full_output=1)\n",
      "    CCRCFactorErr = calcerror(infodict,npCapRatio)\n",
      "\n",
      "    return CCRCFactor,CCRCFactorErr"
     ],
     "language": "python",
     "metadata": {},
     "outputs": []
    },
    {
     "cell_type": "code",
     "collapsed": false,
     "input": [
      "def plotcurve(X,Y,Z,Z2):\n",
      "    fig = plt.figure()\n",
      "    ax = Axes3D(fig)\n",
      "    #ax = fig.add_subplot(111, projection='3d')\n",
      "    ax.scatter(X, Y, Z)\n",
      "    ax.scatter(X,Y,Z2)\n",
      "    plt.show()"
     ],
     "language": "python",
     "metadata": {},
     "outputs": []
    },
    {
     "cell_type": "code",
     "collapsed": false,
     "input": [
      "#Load TotalData Array from Text file output of CellParser.py\n",
      "TotalData = []\n",
      "csvreader = csv.reader(file(\"./ExampleData/RXYQ18Cool.xls.csv\"),quoting=csv.QUOTE_NONNUMERIC)\n",
      "for row in csvreader:\n",
      "    TotalData.append(row)\n",
      "for row in TotalData[1:]:\n",
      "    for item in row[1:]:\n",
      "        item=float(item)\n",
      "    for item in row[:0]:\n",
      "        item=int(item)"
     ],
     "language": "python",
     "metadata": {},
     "outputs": []
    },
    {
     "cell_type": "code",
     "collapsed": false,
     "input": [
      "TotalData"
     ],
     "language": "python",
     "metadata": {},
     "outputs": []
    },
    {
     "cell_type": "code",
     "collapsed": false,
     "input": [
      "%pylab qt\n",
      "#Find Cooling Cooling Capacity Ratio Modifier Function (CAPFT)\n",
      "# and Energy Input Ratio Modifier Function (EIRFT)\n",
      "#This script is designed to simplify the process described in:\n",
      "#https://securedb.fsec.ucf.edu/pub/pub_show_detail?v_pub_id=4588 by neglecting to created a High AND Low\n",
      "#Performance curves.\n",
      "RatedCoolingEnergy = 16.2\n",
      "CAPFT,EIRFT,CAPFTerr,EIRFTerr,IWBmax,IWBmin,ODBmax,ODBmin = FTCurves(TotalData,RatedCoolingEnergy)"
     ],
     "language": "python",
     "metadata": {},
     "outputs": []
    },
    {
     "cell_type": "code",
     "collapsed": false,
     "input": [
      "CAPFT"
     ],
     "language": "python",
     "metadata": {},
     "outputs": []
    },
    {
     "cell_type": "code",
     "collapsed": false,
     "input": [
      "CAPFTerr"
     ],
     "language": "python",
     "metadata": {},
     "outputs": []
    },
    {
     "cell_type": "code",
     "collapsed": false,
     "input": [],
     "language": "python",
     "metadata": {},
     "outputs": []
    }
   ],
   "metadata": {}
  }
 ]
}