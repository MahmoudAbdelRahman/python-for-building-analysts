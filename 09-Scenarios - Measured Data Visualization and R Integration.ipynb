{
 "metadata": {
  "name": "",
  "signature": "sha256:7b018e0c3dc7408358f5b1ef733d1e5c0bbf57fd5f13d5ffb8e65957e545a777"
 },
 "nbformat": 3,
 "nbformat_minor": 0,
 "worksheets": [
  {
   "cells": [
    {
     "cell_type": "markdown",
     "metadata": {},
     "source": [
      "#Visualization of Measured BMS Data and Integration with R techniques\n",
      "\n",
      "Created by Clayton Miller (miller.clayton@arch.ethz.ch) for the IBPSA/ASHRAE BuildingSimulation Python Workshop - 08.Sept 2014\n",
      "\n",
      "###In this exercise, we will look at measured data from a Chilled Water Plant and look at ways to visualize the data for performance analysis."
     ]
    },
    {
     "cell_type": "code",
     "collapsed": false,
     "input": [
      "#Load the libraries and the data\n",
      "import pandas as pd\n",
      "rcParams['figure.figsize'] = 20, 10"
     ],
     "language": "python",
     "metadata": {},
     "outputs": []
    },
    {
     "cell_type": "code",
     "collapsed": false,
     "input": [
      "TotalRawData = pd.read_csv('./ExampleData/ChillerPlantData.csv',index_col='timestamp',parse_dates=True)"
     ],
     "language": "python",
     "metadata": {},
     "outputs": []
    },
    {
     "cell_type": "code",
     "collapsed": false,
     "input": [
      "TotalRawData.info()"
     ],
     "language": "python",
     "metadata": {},
     "outputs": []
    },
    {
     "cell_type": "code",
     "collapsed": false,
     "input": [
      "#Let's do the same date filters as the extractor example \n",
      "startdate = '2012-07-12'\n",
      "enddate = '2013-03-25'\n",
      "SelectedRawData = TotalRawData.truncate(before=startdate, after=enddate)\n",
      "#Let's filter out the datapoints we want\n",
      "desiredpointlist = ['Riser1_CHW_Ton','Riser2_CHW_Ton','CH1_CW_Ton','CH2_CW_Ton','CH3_CW_Ton','System_Eff','Weather_Station_2_Dry_Bulb_Temp','Weather_Station_1_Wet_Bulb_Temp']\n",
      "SelectedRawData = SelectedRawData[desiredpointlist]"
     ],
     "language": "python",
     "metadata": {},
     "outputs": []
    },
    {
     "cell_type": "code",
     "collapsed": false,
     "input": [
      "#Add a column for the total tonnage\n",
      "SelectedRawData['TotalTons'] = SelectedRawData.Riser1_CHW_Ton + SelectedRawData.Riser2_CHW_Ton"
     ],
     "language": "python",
     "metadata": {},
     "outputs": []
    },
    {
     "cell_type": "code",
     "collapsed": false,
     "input": [
      "SelectedRawData"
     ],
     "language": "python",
     "metadata": {},
     "outputs": []
    },
    {
     "cell_type": "markdown",
     "metadata": {},
     "source": [
      "##First let's just look at simple time series plot"
     ]
    },
    {
     "cell_type": "code",
     "collapsed": false,
     "input": [
      "SelectedRawData.TotalTons.plot()"
     ],
     "language": "python",
     "metadata": {},
     "outputs": []
    },
    {
     "cell_type": "markdown",
     "metadata": {},
     "source": [
      "##Daily Cooling Load Profile (RTon vs Time)\n",
      "\n",
      "###Now we'd like to see the data according to typical daily load profiles"
     ]
    },
    {
     "cell_type": "code",
     "collapsed": false,
     "input": [
      "#Create a date and time column which we will use to pivot the data\n",
      "SelectedRawData['Weekday'] = SelectedRawData.index.map(lambda t: t.date().weekday())\n",
      "SelectedRawData['Date'] = SelectedRawData.index.map(lambda t: t.date())\n",
      "SelectedRawData['Time'] = SelectedRawData.index.map(lambda t: t.time())"
     ],
     "language": "python",
     "metadata": {},
     "outputs": []
    },
    {
     "cell_type": "code",
     "collapsed": false,
     "input": [
      "SelectedRawData"
     ],
     "language": "python",
     "metadata": {},
     "outputs": []
    },
    {
     "cell_type": "code",
     "collapsed": false,
     "input": [
      "#Pivot the column to create a dateframe which matches\n",
      "DailyCoolingProfiles = pd.pivot_table(SelectedRawData, values='TotalTons', rows='Time', cols='Weekday', aggfunc=np.mean)\n",
      "DailyCoolingProfiles.columns = ['Mon','Tue','Wed','Thur','Fri','Sat','Sun']"
     ],
     "language": "python",
     "metadata": {},
     "outputs": []
    },
    {
     "cell_type": "code",
     "collapsed": false,
     "input": [
      "DailyCoolingProfiles"
     ],
     "language": "python",
     "metadata": {},
     "outputs": []
    },
    {
     "cell_type": "code",
     "collapsed": false,
     "input": [
      "DailyCoolingProfiles.plot()"
     ],
     "language": "python",
     "metadata": {},
     "outputs": []
    },
    {
     "cell_type": "markdown",
     "metadata": {},
     "source": [
      "##Bins of Load Data\n",
      "\n",
      "###Count the number of hours within a series of bins that we define"
     ]
    },
    {
     "cell_type": "code",
     "collapsed": false,
     "input": [
      "plt.hist(SelectedRawData.TotalTons, bins = [0,300,600,1000,1600])"
     ],
     "language": "python",
     "metadata": {},
     "outputs": []
    },
    {
     "cell_type": "markdown",
     "metadata": {},
     "source": [
      "##Daily Cooling Load Profile: (kW/RT vs Time)"
     ]
    },
    {
     "cell_type": "code",
     "collapsed": false,
     "input": [
      "#Pivot the column to create a dateframe which matches\n",
      "DailyCoolingEffProfiles = pd.pivot_table(SelectedRawData, values='System_Eff', rows='Time', cols='Weekday', aggfunc=np.mean)\n",
      "DailyCoolingEffProfiles.columns = ['Mon','Tue','Wed','Thur','Fri','Sat','Sun']\n",
      "DailyCoolingEffProfiles.plot()"
     ],
     "language": "python",
     "metadata": {},
     "outputs": []
    },
    {
     "cell_type": "markdown",
     "metadata": {},
     "source": [
      "## Chiller Plant Efficiency vs Cooling Load: (kW/RT vs RTons)\n",
      "\n",
      "###It's very typical to plot the Cooling Load vs Plant Efficieny"
     ]
    },
    {
     "cell_type": "code",
     "collapsed": false,
     "input": [
      "scatter(SelectedRawData.TotalTons,SelectedRawData.System_Eff, c='r')"
     ],
     "language": "python",
     "metadata": {},
     "outputs": []
    },
    {
     "cell_type": "markdown",
     "metadata": {},
     "source": [
      "## Chiller Cooling Load vs Outside Air Dry Bulb and Wet Bulb Temp"
     ]
    },
    {
     "cell_type": "code",
     "collapsed": false,
     "input": [
      "scatter(SelectedRawData.Weather_Station_2_Dry_Bulb_Temp[(SelectedRawData.Weather_Station_2_Dry_Bulb_Temp >= 22)],SelectedRawData.TotalTons[(SelectedRawData.Weather_Station_2_Dry_Bulb_Temp >= 22)])"
     ],
     "language": "python",
     "metadata": {},
     "outputs": []
    },
    {
     "cell_type": "code",
     "collapsed": false,
     "input": [
      "scatter(SelectedRawData.Weather_Station_1_Wet_Bulb_Temp, SelectedRawData.TotalTons)"
     ],
     "language": "python",
     "metadata": {},
     "outputs": []
    },
    {
     "cell_type": "markdown",
     "metadata": {},
     "source": [
      "## Heatmap\n",
      "\n",
      "###Heat Maps are extremely useful when finding patterns accross time series data"
     ]
    },
    {
     "cell_type": "code",
     "collapsed": false,
     "input": [
      "Heatmapcoolingenergy = SelectedRawData.truncate(before='2013-01-01',after='2013-03-09 23:00').resample('30min')\n",
      "Heatmapcoolingenergy['Weekday'] = Heatmapcoolingenergy.index.map(lambda t: t.date().weekday())\n",
      "Heatmapcoolingenergy['Date'] = Heatmapcoolingenergy.index.map(lambda t: t.date())\n",
      "Heatmapcoolingenergy['Time'] = Heatmapcoolingenergy.index.map(lambda t: t.time())"
     ],
     "language": "python",
     "metadata": {},
     "outputs": []
    },
    {
     "cell_type": "code",
     "collapsed": false,
     "input": [
      "Heatmapcoolingenergy"
     ],
     "language": "python",
     "metadata": {},
     "outputs": []
    },
    {
     "cell_type": "code",
     "collapsed": false,
     "input": [
      "DailyCoolingEnergy = pd.pivot_table(Heatmapcoolingenergy, values='TotalTons', rows='Time', cols='Date', aggfunc=np.mean).fillna(method='ffill').fillna(method='bfill')"
     ],
     "language": "python",
     "metadata": {},
     "outputs": []
    },
    {
     "cell_type": "code",
     "collapsed": false,
     "input": [
      "fig = figure(1, figsize=(30,10)) \n",
      "plt.pcolor(DailyCoolingEnergy)\n",
      "plt.yticks(arange(0.5, len(DailyCoolingEnergy.index), 1), DailyCoolingEnergy.index)\n",
      "plt.xticks(arange(0.5, len(DailyCoolingEnergy.columns), 1), DailyCoolingEnergy.columns, rotation=90)\n",
      "plt.show()"
     ],
     "language": "python",
     "metadata": {},
     "outputs": []
    },
    {
     "cell_type": "code",
     "collapsed": false,
     "input": [
      "Heatmapcoolingenergy.TotalTons.plot(figsize=(30,10))"
     ],
     "language": "python",
     "metadata": {},
     "outputs": []
    },
    {
     "cell_type": "code",
     "collapsed": false,
     "input": [
      "import rpy2\n",
      "%load_ext rmagic"
     ],
     "language": "python",
     "metadata": {},
     "outputs": []
    },
    {
     "cell_type": "markdown",
     "metadata": {},
     "source": [
      "## STL Decomposition in R"
     ]
    },
    {
     "cell_type": "markdown",
     "metadata": {},
     "source": [
      "###Let's say we'd like to analyse our Chiller Plant Time series data in R. In this case let's look at a way to decompose the dataset using the tbats function."
     ]
    },
    {
     "cell_type": "code",
     "collapsed": false,
     "input": [
      "TotalCooling = SelectedRawData.TotalTons.resample('H').truncate(before='2013-02-18',after='2013-03-09')\n",
      "TotalCooling"
     ],
     "language": "python",
     "metadata": {},
     "outputs": []
    },
    {
     "cell_type": "code",
     "collapsed": false,
     "input": [
      "#%Rpush TotalCooling"
     ],
     "language": "python",
     "metadata": {},
     "outputs": []
    },
    {
     "cell_type": "code",
     "collapsed": false,
     "input": [
      "CoolingHourly = SelectedRawData.TotalTons.resample('H').truncate(before='2013-02-04',after='2013-03-23')\n",
      "CoolingDaily = SelectedRawData.TotalTons.resample('D')"
     ],
     "language": "python",
     "metadata": {},
     "outputs": []
    },
    {
     "cell_type": "code",
     "collapsed": false,
     "input": [
      "CoolingHourly.plot()"
     ],
     "language": "python",
     "metadata": {},
     "outputs": []
    },
    {
     "cell_type": "code",
     "collapsed": false,
     "input": [
      "CoolingHourly"
     ],
     "language": "python",
     "metadata": {},
     "outputs": []
    },
    {
     "cell_type": "code",
     "collapsed": false,
     "input": [
      "CoolingDaily.plot()"
     ],
     "language": "python",
     "metadata": {},
     "outputs": []
    },
    {
     "cell_type": "code",
     "collapsed": false,
     "input": [
      "CoolingHourly.to_csv('./ExampleData/CoolingHourly.csv')\n",
      "CoolingDaily.to_csv('./ExampleData/CoolingDaily.csv')"
     ],
     "language": "python",
     "metadata": {},
     "outputs": []
    },
    {
     "cell_type": "markdown",
     "metadata": {},
     "source": [
      "##Hourly Data"
     ]
    },
    {
     "cell_type": "code",
     "collapsed": false,
     "input": [
      "%%R\n",
      "CoolingHourly <- read.table('./ExampleData/CoolingHourly.csv', sep=',')\n",
      "print(CoolingHourly$V2)"
     ],
     "language": "python",
     "metadata": {},
     "outputs": []
    },
    {
     "cell_type": "code",
     "collapsed": false,
     "input": [
      "%%R\n",
      "library(forecast)\n",
      "CoolingHourly.ts <- ts(CoolingHourly$V2, start=c(2012,7,12), freq=8765.81)\n",
      "plot(CoolingHourly.ts)"
     ],
     "language": "python",
     "metadata": {},
     "outputs": []
    },
    {
     "cell_type": "code",
     "collapsed": false,
     "input": [
      "%%R \n",
      "CoolingHourly.tbats <- tbats(CoolingHourly.ts, seasonal.periods=c(24,168), use.trend=TRUE, use.parallel=TRUE)\n",
      "components <- tbats.components(CoolingHourly.tbats)\n",
      "CoolingHourly.residuals <- residuals(CoolingHourly.tbats)"
     ],
     "language": "python",
     "metadata": {},
     "outputs": []
    },
    {
     "cell_type": "code",
     "collapsed": false,
     "input": [
      "%%R \n",
      "plot(CoolingHourly.residuals)\n",
      "plot(components)"
     ],
     "language": "python",
     "metadata": {},
     "outputs": []
    },
    {
     "cell_type": "code",
     "collapsed": false,
     "input": [
      "%%R\n",
      "acf(CoolingHourly.residuals, plot = TRUE)\n",
      "acf(CoolingHourly.residuals, type = \"partial\", plot = TRUE)"
     ],
     "language": "python",
     "metadata": {},
     "outputs": []
    },
    {
     "cell_type": "code",
     "collapsed": false,
     "input": [
      "%%R\n",
      "coolingforecast <- forecast(CoolingHourly.tbats)\n",
      "plot(coolingforecast)\n"
     ],
     "language": "python",
     "metadata": {},
     "outputs": []
    },
    {
     "cell_type": "code",
     "collapsed": false,
     "input": [],
     "language": "python",
     "metadata": {},
     "outputs": []
    },
    {
     "cell_type": "code",
     "collapsed": false,
     "input": [],
     "language": "python",
     "metadata": {},
     "outputs": []
    }
   ],
   "metadata": {}
  }
 ]
}