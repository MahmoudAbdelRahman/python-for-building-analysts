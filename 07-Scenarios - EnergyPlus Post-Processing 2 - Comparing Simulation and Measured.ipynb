{
 "metadata": {
  "name": "",
  "signature": "sha256:b25138fc211a20f520aa97844ee69e83795705402d2af2e97a6a4d55847f78f1"
 },
 "nbformat": 3,
 "nbformat_minor": 0,
 "worksheets": [
  {
   "cells": [
    {
     "cell_type": "markdown",
     "metadata": {},
     "source": [
      "#Comparison of Measured and Simulated Data\n",
      "\n",
      "Created  by Clayton Miller (miller.clayton@arch.ethz.ch) for the IBPSA/ASHRAE BuildingSimulation Python Workshop - 08.Sept 2014\n",
      "###We have a scenario here where we have measured data for a heating system of a building and we want to compare the measured data to that of an EnergyPlus model for calibration purposes.\n",
      "\n",
      "##1. Baseline Model Calibration"
     ]
    },
    {
     "cell_type": "code",
     "collapsed": false,
     "input": [
      "#Load all libraries\n",
      "import pandas as pd\n",
      "import datetime\n",
      "from datetime import timedelta\n",
      "import time\n",
      "import brewer2mpl"
     ],
     "language": "python",
     "metadata": {},
     "outputs": []
    },
    {
     "cell_type": "code",
     "collapsed": false,
     "input": [
      "# settings for graphics\n",
      "rcParams['figure.figsize'] = 20, 10\n",
      "rcParams['font.size'] = 16\n",
      "bmap = brewer2mpl.get_map('Set3', 'qualitative', 12)\n",
      "bmap2 = brewer2mpl.get_map('Set1', 'qualitative', 9)\n",
      "colors = bmap.mpl_colors\n",
      "colors2 = bmap2.mpl_colors\n",
      "rcParams['axes.color_cycle'] = colors2"
     ],
     "language": "python",
     "metadata": {},
     "outputs": []
    },
    {
     "cell_type": "code",
     "collapsed": false,
     "input": [
      "# general settings\n",
      "show_images = True # show equations etc.?\n",
      "language_german = False; # False -> english, True -> german"
     ],
     "language": "python",
     "metadata": {},
     "outputs": []
    },
    {
     "cell_type": "markdown",
     "metadata": {},
     "source": [
      "##Load the Measured Heating Data"
     ]
    },
    {
     "cell_type": "code",
     "collapsed": false,
     "input": [
      "HeatingSystemMeasurementData = pd.read_csv('./ExampleData/MeasuredHeatingData2.csv',index_col='Date_Time', parse_dates=True, dayfirst=True)"
     ],
     "language": "python",
     "metadata": {},
     "outputs": []
    },
    {
     "cell_type": "code",
     "collapsed": false,
     "input": [
      "HeatingSystemMeasurementData.resample('30min').plot()"
     ],
     "language": "python",
     "metadata": {},
     "outputs": []
    },
    {
     "cell_type": "code",
     "collapsed": false,
     "input": [
      "HeatingSystemMeasurementData.head()"
     ],
     "language": "python",
     "metadata": {},
     "outputs": []
    },
    {
     "cell_type": "code",
     "collapsed": false,
     "input": [
      "if language_german:\n",
      "    ylabel_str = \"Heizenergie [kWh] / Temperatur [C] / Durchflussrate [l/s]\"\n",
      "    xlabel_str = 'Datum'\n",
      "    title_str  = \"Messdaten Heizungssystem\"\n",
      "    label_str = ['Durchfluss','Vorlauftemperatur','R\u00fccklauftemperatur','Heizenergie']\n",
      "else:\n",
      "    ylabel_str = \"Heating Energy [kWh] / Temperature [C] / Flow Rate [l/s]\"\n",
      "    xlabel_str = 'Date'\n",
      "    title_str = \"Measured Heating System Data\"\n",
      "    label_str = ['Water Flow Rate','Supply Temperature','Return Temperature','Heating Energy']\n",
      "    \n",
      "ContractorHeatingMeasure = HeatingSystemMeasurementData.resample('30min').plot(figsize=(25,10))\n",
      "ContractorHeatingMeasure.set_ylabel(ylabel_str); ContractorHeatingMeasure.set_title(title_str); ContractorHeatingMeasure.set_xlabel(xlabel_str);\n",
      "ContractorHeatingMeasure.legend(label_str,loc=4)\n",
      "savefig('Measured_Data.pdf')"
     ],
     "language": "python",
     "metadata": {},
     "outputs": []
    },
    {
     "cell_type": "code",
     "collapsed": false,
     "input": [
      "MeasuredHeatingData = pd.DataFrame(HeatingSystemMeasurementData['Warmefluss '].resample('H'))\n",
      "MeasuredHeatingData.columns = ['Measured Data']\n",
      "MeasuredHeatingData"
     ],
     "language": "python",
     "metadata": {},
     "outputs": []
    },
    {
     "cell_type": "markdown",
     "metadata": {},
     "source": [
      "##Load the Temperature Measurement System Data"
     ]
    },
    {
     "cell_type": "code",
     "collapsed": false,
     "input": [
      "MeasuredTempData = pd.read_csv('./ExampleData/MeasuredTempData2.csv',sep=',', index_col='timestamp')"
     ],
     "language": "python",
     "metadata": {},
     "outputs": []
    },
    {
     "cell_type": "code",
     "collapsed": false,
     "input": [
      "MeasuredTempData#.resample('D')"
     ],
     "language": "python",
     "metadata": {},
     "outputs": []
    },
    {
     "cell_type": "code",
     "collapsed": false,
     "input": [
      "# get indices for columns that contain 'INTtemperature'\n",
      "idx = [i for i, col in enumerate(MeasuredTempData.columns) if 'INTtemperature' in col]\n",
      "#idx\n",
      "\n",
      "InteriorTemperatures = MeasuredTempData[MeasuredTempData.columns[idx]]#.resample('30min').truncate(before='2013-01-30')\n",
      "IntTemp = InteriorTemperatures.plot(figsize=(25,10),xticks=range(0,850,96))\n",
      "if language_german:\n",
      "    ylabel_str = \"Raumtemperatur [C]\"; xlabel_str = \"Datum\"; title_str = \"Raumteperaturen Gemessen\"\n",
      "else:\n",
      "    ylabel_str = \"Zone Temperature [C]\"; xlabel_str = \"Date\"; title_str = \"Measured Indoor Temperatures\"\n",
      "    \n",
      "IntTemp.set_ylabel(ylabel_str); IntTemp.set_xlabel(xlabel_str); IntTemp.set_title(title_str)\n",
      "\n",
      "handles, labels = IntTemp.get_legend_handles_labels()\n",
      "labels = [l.replace(\"('\",'').replace(\"', 'INTtemperature')\",'') for l in labels]\n",
      "if language_german:\n",
      "    labels = [l.replace('Buro','B\u00fcro').replace('Treppe','Treppenhaus') for l in labels]\n",
      "else:\n",
      "    labels = [l.replace('Buro','Office').replace('Treppe','Stairwell') for l in labels]\n",
      "\n",
      "IntTemp.legend(labels)\n",
      "labels = IntTemp.get_xticklabels();\n",
      "labels = [l.get_text().replace(' 00:00:00','') for l in labels]\n",
      "IntTemp.set_xticklabels(labels,rotation=30);\n",
      "savefig('./ExampleOutputs/MeasuredIndoorTemperatures.pdf')"
     ],
     "language": "python",
     "metadata": {},
     "outputs": []
    },
    {
     "cell_type": "markdown",
     "metadata": {},
     "source": [
      "##Energyplus Simulations"
     ]
    },
    {
     "cell_type": "code",
     "collapsed": false,
     "input": [
      "#Function to convert timestamps\n",
      "def eplustimestamp(simdata,year_start_time=2013):\n",
      "    timestampdict={}\n",
      "    for i,row in simdata.T.iteritems():\n",
      "        timestamp = str(year_start_time) + row['Date/Time']\n",
      "        try:\n",
      "            timestampdict[i] = datetime.datetime.strptime(timestamp,'%Y %m/%d  %H:%M:%S')\n",
      "        except ValueError:\n",
      "            tempts = timestamp.replace(' 24', ' 23')\n",
      "            timestampdict[i] = datetime.datetime.strptime(tempts,'%Y %m/%d  %H:%M:%S')\n",
      "            timestampdict[i] += timedelta(hours=1)\n",
      "    timestampseries = pd.Series(timestampdict)\n",
      "    return timestampseries"
     ],
     "language": "python",
     "metadata": {},
     "outputs": []
    },
    {
     "cell_type": "code",
     "collapsed": false,
     "input": [
      "def loadsimdata(file,pointname,ConvFactor,year_start_time=2013):\n",
      "    df = pd.read_csv(file)\n",
      "    df['desiredpoint'] = df[pointname]*ConvFactor\n",
      "    df.index = eplustimestamp(df,year_start_time)\n",
      "    pointdf = df['desiredpoint']\n",
      "    return pointdf"
     ],
     "language": "python",
     "metadata": {},
     "outputs": []
    },
    {
     "cell_type": "code",
     "collapsed": false,
     "input": [
      "Simlist = ['Sim1Data.csv','Sim2Data.csv','Sim3Data.csv','Sim4Data.csv']\n",
      "SimHeatingDataList = []\n",
      "for file in Simlist:\n",
      "    print 'Loading '+file\n",
      "    x = loadsimdata('./ExampleData/'+file,'EMS:All Zones Total Heating Energy {J}(Hourly)',0.0000002778)\n",
      "    SimHeatingDataList.append(x)"
     ],
     "language": "python",
     "metadata": {},
     "outputs": []
    },
    {
     "cell_type": "code",
     "collapsed": false,
     "input": [
      "SimHeatingData = pd.concat(SimHeatingDataList, axis=1, keys=Simlist)"
     ],
     "language": "python",
     "metadata": {},
     "outputs": []
    },
    {
     "cell_type": "code",
     "collapsed": false,
     "input": [
      "SimHeatingData.plot(figsize=(20,10))"
     ],
     "language": "python",
     "metadata": {},
     "outputs": []
    },
    {
     "cell_type": "markdown",
     "metadata": {},
     "source": [
      "##Combine the Measured and Simulated Heating Data"
     ]
    },
    {
     "cell_type": "code",
     "collapsed": false,
     "input": [
      "CombinedHeating = pd.merge(SimHeatingData, MeasuredHeatingData, right_index=True, left_index=True)\n",
      "CombinedHeating"
     ],
     "language": "python",
     "metadata": {},
     "outputs": []
    },
    {
     "cell_type": "code",
     "collapsed": false,
     "input": [
      "do_truncate = True;\n",
      "\n",
      "if do_truncate:\n",
      "    SimVsMeasHeating = CombinedHeating.truncate(after='2013-02-06').plot(figsize=(25,10),linewidth=2)\n",
      "else:\n",
      "    SimVsMeasHeating = CombinedHeating.plot(figsize=(25,10),linewidth=2)\n",
      "\n",
      "if language_german:\n",
      "    ylabel_str = 'Heizenergie [kWh]'; xlabel_str = \"Datum\"; title_str = 'Vergleich Messung / Simulation';\n",
      "    labels = ['Simulation, Iteration 1', 'Simulation, Iteration 2', 'Simulation, Iteration 3', 'Simulation, Iteration 4', 'Messdaten']\n",
      "else:\n",
      "    ylabel_str = 'Heating Energy [kWh]'; xlabel_str = \"Date\"; title_str = 'Measured vs. Simulated Heating Comparison';\n",
      "    labels = ['Simulation, Iteration 1', 'Simulation, Iteration 2', 'Simulation, Iteration 3', 'Simulation, Iteration 4', 'Measured Data']\n",
      "\n",
      "SimVsMeasHeating.set_ylabel(ylabel_str); SimVsMeasHeating.set_xlabel(xlabel_str); SimVsMeasHeating.set_title(title_str);\n",
      "SimVsMeasHeating.legend(labels,loc=4)\n",
      "\n",
      "if do_truncate:\n",
      "    savefig('./ExampleOutputs/Measured_vs_Simulated_zoom.pdf')\n",
      "else:\n",
      "    savefig('./ExampleOutputs/Measured_vs_Simulated.pdf')"
     ],
     "language": "python",
     "metadata": {},
     "outputs": []
    },
    {
     "cell_type": "code",
     "collapsed": false,
     "input": [
      "from __future__ import division"
     ],
     "language": "python",
     "metadata": {},
     "outputs": []
    },
    {
     "cell_type": "code",
     "collapsed": false,
     "input": [
      "from IPython.core.display import Image \n",
      "Image(filename='./ExampleData/ashrae14equations.png')"
     ],
     "language": "python",
     "metadata": {},
     "outputs": []
    },
    {
     "cell_type": "code",
     "collapsed": false,
     "input": [
      "CombinedHeating"
     ],
     "language": "python",
     "metadata": {},
     "outputs": []
    },
    {
     "cell_type": "code",
     "collapsed": false,
     "input": [
      "dataset = 'Sim4Data.csv'\n",
      "NMBE = 100*(sum(CombinedHeating['Measured Data'] - CombinedHeating[dataset] )/(CombinedHeating['Measured Data'].count()*CombinedHeating['Measured Data'].mean()))\n",
      "CVRSME = 100*((sum((CombinedHeating['Measured Data'] - CombinedHeating[dataset] )**2)/(CombinedHeating['Measured Data'].count()-1))**(0.5))/CombinedHeating['Measured Data'].mean()"
     ],
     "language": "python",
     "metadata": {},
     "outputs": []
    },
    {
     "cell_type": "code",
     "collapsed": false,
     "input": [
      "print 'NMBE: ' + str(round(NMBE,2)) + '    CVRSME : ' + str(round(CVRSME,2))"
     ],
     "language": "python",
     "metadata": {},
     "outputs": []
    },
    {
     "cell_type": "code",
     "collapsed": false,
     "input": [
      "from IPython.core.display import Image\n",
      "Image(filename='./ExampleData/ashrae14calibrationmetrics.png')"
     ],
     "language": "python",
     "metadata": {},
     "outputs": []
    },
    {
     "cell_type": "markdown",
     "metadata": {},
     "source": [
      "##Analysis of Retrofit Scenarios"
     ]
    },
    {
     "cell_type": "code",
     "collapsed": false,
     "input": [
      "SimRetrofitList = ['Sim4Data.csv',\n",
      "                   'Retrofit1_Windows.csv',\n",
      "                   'Retrofit1_Plaster.csv',\n",
      "                   'Retrofit2_Aerogel.csv',\n",
      "                   'Retrofit1_Ceiling.csv',\n",
      "                   'Retrofit1_AirtightnessHigh.csv',\n",
      "                   'Retrofit1.csv',\n",
      "                   'Retrofit2.csv']\n",
      "SimRetrofitDataList = []\n",
      "for file in SimRetrofitList:\n",
      "    x = loadsimdata('./ExampleData/'+file,'EMS:All Zones Total Heating Energy {J}(Hourly)',0.0000002778,2012)\n",
      "    SimRetrofitDataList.append(x)"
     ],
     "language": "python",
     "metadata": {},
     "outputs": []
    },
    {
     "cell_type": "code",
     "collapsed": false,
     "input": [
      "def get_retrofit_labels(labels,language_german):\n",
      "    if language_german:\n",
      "        labels = [l.replace('Sim4HC_SB3_','Ausgangszustand + ').replace('Sim4HC_SB3','Ausgangszustand').replace('1_',' nur ').replace('2_',' nur ').replace('Annual','').replace('Ausgangszustand + Retrofit','Retrofit ') for l in labels]\n",
      "    else:\n",
      "        labels = [l.replace('Sim4HC_SB3_','Baseline + ').replace('Sim4HC_SB3','Baseline').replace('1_',' only ').replace('2_',' only ').replace('Annual','').replace('Baseline + Retrofit','Retrofit') for l in labels]\n",
      "    return labels"
     ],
     "language": "python",
     "metadata": {},
     "outputs": []
    },
    {
     "cell_type": "code",
     "collapsed": false,
     "input": [
      "SimRetrofitData = pd.concat(SimRetrofitDataList, axis=1, keys=SimRetrofitList)\n",
      "SimRetrofitHeating = SimRetrofitData.tshift(-1,freq='H').resample('D',how='sum').plot(figsize=(25,10),linewidth=1)\n",
      "\n",
      "handles, labels = SimRetrofitHeating.get_legend_handles_labels()\n",
      "\n",
      "if language_german:\n",
      "    ylabel_str = 'Gesamt-Heizenergie pro Tag [kWh]'; xlabel_str = \"Datum\"; title_str = 'Vergleich Simulation Ausgangszustand und Renovations-Szenarien';\n",
      "else:\n",
      "    ylabel_str = 'Total Heating Energy per Day [kWh]'; xlabel_str = 'Date'; title_str = 'Simulated Baseline vs. Retrofit Scenarios Comparison';\n",
      "\n",
      "SimRetrofitHeating.set_ylabel(ylabel_str); SimRetrofitHeating.set_xlabel(xlabel_str); SimRetrofitHeating.set_title(title_str)\n",
      "legend(get_retrofit_labels(labels,language_german),loc=9)\n",
      "savefig('./ExampleOutputs/BaselineVsRetrofit_Daily.pdf')"
     ],
     "language": "python",
     "metadata": {},
     "outputs": []
    },
    {
     "cell_type": "code",
     "collapsed": false,
     "input": [
      "SimRetrofitData = pd.concat(SimRetrofitDataList, axis=1, keys=SimRetrofitList);\n",
      "SimRetrofitDataHeatingMonthly = SimRetrofitData.tshift(-1,freq='H').resample('M',how='sum').plot(figsize=(25,10),kind='bar');\n",
      "\n",
      "handles, labels = SimRetrofitDataHeatingMonthly.get_legend_handles_labels();\n",
      "\n",
      "if language_german:\n",
      "    ylabel_str = 'Gesamt-Heizenergie pro Monat [kWh]'; xlabel_str = 'Monat der Simulationsperiode'; title_str = 'Vergleich Simulation Ausgangszustand und Renovations-Szenarien';\n",
      "else:\n",
      "    ylabel_str = 'Total Heating Energy per Month [kWh]'; xlabel_str = 'Month of Simulation Period'; title_str = 'Simulated Baseline vs. Retrofit Scenarios Comparison';\n",
      "\n",
      "SimRetrofitDataHeatingMonthly.set_ylabel(ylabel_str); SimRetrofitDataHeatingMonthly.set_xlabel(xlabel_str); SimRetrofitDataHeatingMonthly.set_title(title_str);\n",
      "legend([\" \"] + get_retrofit_labels(labels,language_german),loc = 9); # there is a problem here\n",
      "\n",
      "SimRetrofitDataHeatingMonthly.set_xticklabels(['Jan','Feb','Mar','Apr','May','Jun','Jul','Aug','Sep','Oct','Nov','Dec'],rotation=0);\n",
      "savefig('./ExampleOutputs/BaselineVsRetrofit_Barplot.pdf')"
     ],
     "language": "python",
     "metadata": {},
     "outputs": []
    },
    {
     "cell_type": "markdown",
     "metadata": {},
     "source": [
      "# Compile the hours not comfortable"
     ]
    },
    {
     "cell_type": "code",
     "collapsed": false,
     "input": [
      "def get_air_temperatures_of_conditioned_zones(filename,unconditioned_zones):\n",
      "    data = pd.read_csv(filename)\n",
      "    data.index = eplustimestamp(data)\n",
      "    columnlist = pd.Series(data.columns)\n",
      "    columnlist = list(columnlist[(columnlist.str.endswith(\"Zone Mean Air Temperature [C](Hourly)\"))])\n",
      "    for zonename in unconditioned_zones: # filter out unconditioned zones\n",
      "        columnlist = filter(lambda columnname: not zonename in columnname,columnlist)\n",
      "    return data[columnlist]\n",
      "\n",
      "\n",
      "def get_number_of_hours_not_comfortable(filename,unconditioned_zones):\n",
      "    # settings\n",
      "    beginocc = 6; endocc = 23; # hours occupied: beginocc < x < endocc\n",
      "    endheating = 6; beginheating = 8; # months of heating period: x < endheating OR x > beginheating\n",
      "    tempthreshold = 19.5\n",
      "    \n",
      "    # get data\n",
      "    data = get_air_temperatures_of_conditioned_zones(filename,unconditioned_zones)\n",
      "    \n",
      "    # count uncomfortable hours\n",
      "    d = dict()\n",
      "    for rowname in data: \n",
      "        row = data[rowname]\n",
      "        d[rowname.split(':')[0]] = len(row[(row < tempthreshold) \n",
      "                           & (row.index.hour > 6) & (row.index.hour < 23)\n",
      "                           & ((row.index.month > beginheating) | (row.index.month < endheating))  ])\n",
      "    return d, sum(d.values())"
     ],
     "language": "python",
     "metadata": {},
     "outputs": []
    },
    {
     "cell_type": "code",
     "collapsed": false,
     "input": [
      "filename = 'Sim4Data.csv'\n",
      "\n",
      "unconditioned_zones = ['ZONE_U1_W', 'ZONE_U1_N', 'ZONE_U1_ST', 'ZONE_00_ST', 'ZONE_01_ST', 'ZONE_02_ST', \n",
      "                       'ZONE_03_ST', 'ZONE_04_ST', 'ZONE_04_N', 'ZONE_05_N', 'ZONE_05_S']\n",
      "unconditioned_zones.append('ZONE_U1_LA') # many uncomfortable hours here...\n",
      "\n",
      "total_hours_not_comfortable = dict()\n",
      "for filename in SimRetrofitList:\n",
      "    hours_not_comfortable, N = get_number_of_hours_not_comfortable(\"./ExampleData/\"+filename,unconditioned_zones)\n",
      "    #print hours_not_comfortable # print per zone\n",
      "    total_hours_not_comfortable[filename] = int(N/39.)\n",
      "    print filename, int(N/39.)   # total, normalized by number of zones"
     ],
     "language": "python",
     "metadata": {},
     "outputs": []
    },
    {
     "cell_type": "code",
     "collapsed": false,
     "input": [
      "#fig = figure(figsize=(8,6),dpi=300, facecolor='w', edgecolor='k');\n",
      "ComfortData = pd.Series(total_hours_not_comfortable)\n",
      "ComfortData\n",
      "ComfortPlot = ComfortData.plot(kind='bar')\n",
      "ComfortPlot.set_title('Avg. Hours Uncomfortable')"
     ],
     "language": "python",
     "metadata": {},
     "outputs": []
    },
    {
     "cell_type": "code",
     "collapsed": false,
     "input": [],
     "language": "python",
     "metadata": {},
     "outputs": []
    },
    {
     "cell_type": "code",
     "collapsed": false,
     "input": [],
     "language": "python",
     "metadata": {},
     "outputs": []
    }
   ],
   "metadata": {}
  }
 ]
}